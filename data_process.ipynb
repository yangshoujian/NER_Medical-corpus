{
 "cells": [
  {
   "cell_type": "markdown",
   "metadata": {
    "colab_type": "text",
    "id": "QK3fl1ISj_sJ"
   },
   "source": [
    "# 数据处理\n",
    "\n",
    "## 1、导入数据"
   ]
  },
  {
   "cell_type": "code",
   "execution_count": 0,
   "metadata": {
    "colab": {
     "base_uri": "https://localhost:8080/",
     "height": 122
    },
    "colab_type": "code",
    "id": "SDrAVIGuhSF0",
    "outputId": "42a7f627-b061-44c2-ad62-0b82198b4b3f"
   },
   "outputs": [
    {
     "name": "stdout",
     "output_type": "stream",
     "text": [
      "Go to this URL in a browser: https://accounts.google.com/o/oauth2/auth?client_id=947318989803-6bn6qk8qdgf4n4g3pfee6491hc0brc4i.apps.googleusercontent.com&redirect_uri=urn%3aietf%3awg%3aoauth%3a2.0%3aoob&response_type=code&scope=email%20https%3a%2f%2fwww.googleapis.com%2fauth%2fdocs.test%20https%3a%2f%2fwww.googleapis.com%2fauth%2fdrive%20https%3a%2f%2fwww.googleapis.com%2fauth%2fdrive.photos.readonly%20https%3a%2f%2fwww.googleapis.com%2fauth%2fpeopleapi.readonly\n",
      "\n",
      "Enter your authorization code:\n",
      "··········\n",
      "Mounted at /content/drive\n"
     ]
    }
   ],
   "source": [
    "from google.colab import drive\n",
    "#将Drive中的文件与Colab关联，执行这个命令授权是将Drive挂载到‘/content/drive’下，查看此时的目录就知道了\n",
    "drive.mount('/content/drive')"
   ]
  },
  {
   "cell_type": "code",
   "execution_count": 0,
   "metadata": {
    "colab": {},
    "colab_type": "code",
    "id": "O-F33PHzh_PK"
   },
   "outputs": [],
   "source": [
    "import os \n",
    "path=\"/content/drive/My Drive/Colab Notebooks/NLP/Project/\"\n",
    "os.chdir(path) #切换当前文件夹"
   ]
  },
  {
   "cell_type": "markdown",
   "metadata": {},
   "source": [
    "colab是google提供的运行在云端的jupyter notebook环境。这个环境是运行在google虚拟机上的，显然与自己的pc不在一个文件系统。"
   ]
  },
  {
   "cell_type": "code",
   "execution_count": 1,
   "metadata": {
    "colab": {},
    "colab_type": "code",
    "id": "hfHxM9-1iGfj"
   },
   "outputs": [],
   "source": [
    "import pandas as pd\n",
    "# train=pd.read_json(\"./dataset/train.txt\")\n",
    "# dev=pd.read_json(\"./dataset/dev.txt\")\n",
    "# test=pd.read_json(\"./dataset/test.txt\")\n",
    "train=pd.read_json(\"/Users/yangshoujian/iCloud云盘（归档）/研一/NLP/55/自然语言处理课程作业/作业二：模型训练/dataset/train.txt\")\n",
    "dev=pd.read_json(\"/Users/yangshoujian/iCloud云盘（归档）/研一/NLP/55/自然语言处理课程作业/作业二：模型训练/dataset/dev.txt\")\n",
    "test=pd.read_json(\"/Users/yangshoujian/iCloud云盘（归档）/研一/NLP/55/自然语言处理课程作业/作业二：模型训练/dataset/test.txt\")"
   ]
  },
  {
   "cell_type": "code",
   "execution_count": 2,
   "metadata": {
    "colab": {
     "base_uri": "https://localhost:8080/",
     "height": 258
    },
    "colab_type": "code",
    "id": "2-yvg-K_qON8",
    "outputId": "05e2eea0-df19-41f5-b2b6-454a3630162b"
   },
   "outputs": [
    {
     "name": "stdout",
     "output_type": "stream",
     "text": [
      "['[0NICH3]dis 预后与其出血类型有关。 [15脑室周围18]bod -脑室内出血的近期预后与出血量大小有关，出血量越大，并发 [47脑积水的发生率或病死率越高59]sym ；远期随访，出血量大者多发生 [74严重智能减退79]sym 和 [81运动功能障碍86]sym 等。 [89[小脑]bod 出血92]sym 预后差，出生后不久即死亡。 [106新生儿 [蛛网膜下腔]bod 出血115]sym 主要系静脉破裂所致， [126出血量较小130]sym ，大多预后良好；少数也可因先天性颅内动脉瘤破裂所致，病情多危重，预后较差，病死率高达40%。 [177幕上硬膜180]bod 下出血预后相对较好，而 [192幕下硬膜195]bod 下出血预后差。'\n",
      " {'No.0: 脑积水的发生率或病死率越高': {'has_problem': False, 'subject': {'val': '发生率或病死率越高', 'pos': [51, 59]}, 'self': {'val': '脑积水的发生率或病死率越高', 'pos': [47, 59]}, 'body': {'val': '脑室周围', 'pos': [15, 18]}, 'decorate': {'val': '', 'pos': []}, 'frequency': {'val': '', 'pos': []}, 'item': {'val': '', 'pos': []}, 'disease': {'val': 'ICH', 'pos': [0, 3]}}, 'No.1: 严重智能减退': {'has_problem': False, 'subject': {'val': '智能减退', 'pos': [76, 79]}, 'self': {'val': '严重智能减退', 'pos': [74, 79]}, 'body': {'val': '', 'pos': []}, 'decorate': {'val': '严重', 'pos': [74, 75]}, 'frequency': {'val': '', 'pos': []}, 'item': {'val': '', 'pos': []}, 'disease': {'val': '', 'pos': []}}, 'No.3: 小脑出血': {'has_problem': False, 'subject': {'val': '出血', 'pos': [91, 92]}, 'self': {'val': '小脑出血', 'pos': [89, 92]}, 'body': {'val': '小脑', 'pos': [89, 90]}, 'decorate': {'val': '', 'pos': []}, 'frequency': {'val': '', 'pos': []}, 'item': {'val': '', 'pos': []}, 'disease': {'val': '', 'pos': []}}, 'No.5: 出血量较小': {'has_problem': False, 'subject': {'val': '出血量', 'pos': [126, 128]}, 'self': {'val': '出血量较小', 'pos': [126, 130]}, 'body': {'val': '', 'pos': []}, 'decorate': {'val': '较小', 'pos': [129, 130]}, 'frequency': {'val': '', 'pos': []}, 'item': {'val': '', 'pos': []}, 'disease': {'val': '', 'pos': []}}, 'No.4: 新生儿蛛网膜下腔出血': {'has_problem': False, 'subject': {'val': '出血', 'pos': [114, 115]}, 'self': {'val': '新生儿蛛网膜下腔出血', 'pos': [106, 115]}, 'body': {'val': '蛛网膜下腔', 'pos': [109, 113]}, 'decorate': {'val': '', 'pos': []}, 'frequency': {'val': '', 'pos': []}, 'item': {'val': '', 'pos': []}, 'disease': {'val': '', 'pos': []}}, 'No.2: 运动功能障碍': {'has_problem': False, 'subject': {'val': '障碍', 'pos': [85, 86]}, 'self': {'val': '运动功能障碍', 'pos': [81, 86]}, 'body': {'val': '', 'pos': []}, 'decorate': {'val': '', 'pos': []}, 'frequency': {'val': '', 'pos': []}, 'item': {'val': '', 'pos': []}, 'disease': {'val': '', 'pos': []}}}]\n"
     ]
    },
    {
     "data": {
      "text/html": [
       "<div>\n",
       "<style scoped>\n",
       "    .dataframe tbody tr th:only-of-type {\n",
       "        vertical-align: middle;\n",
       "    }\n",
       "\n",
       "    .dataframe tbody tr th {\n",
       "        vertical-align: top;\n",
       "    }\n",
       "\n",
       "    .dataframe thead th {\n",
       "        text-align: right;\n",
       "    }\n",
       "</style>\n",
       "<table border=\"1\" class=\"dataframe\">\n",
       "  <thead>\n",
       "    <tr style=\"text-align: right;\">\n",
       "      <th></th>\n",
       "      <th>text</th>\n",
       "      <th>symptom</th>\n",
       "    </tr>\n",
       "  </thead>\n",
       "  <tbody>\n",
       "    <tr>\n",
       "      <th>0</th>\n",
       "      <td>[0NICH3]dis 预后与其出血类型有关。 [15脑室周围18]bod -脑室内出血的近...</td>\n",
       "      <td>{'No.0: 脑积水的发生率或病死率越高': {'has_problem': False,...</td>\n",
       "    </tr>\n",
       "    <tr>\n",
       "      <th>1</th>\n",
       "      <td>[0ICH2]dis 的预后与其发病年龄、病因、出血部位及出血量大小等有关。 [30脑动静脉...</td>\n",
       "      <td>{'No.4: 产生脑积水': {'has_problem': False, 'subjec...</td>\n",
       "    </tr>\n",
       "    <tr>\n",
       "      <th>2</th>\n",
       "      <td>①有明显感染 [6病灶7]sym ，如 [10脐炎11]dis 、 [13肺炎14]dis ...</td>\n",
       "      <td>{'No.8: 脑脊液鼻漏': {'has_problem': False, 'subjec...</td>\n",
       "    </tr>\n",
       "    <tr>\n",
       "      <th>3</th>\n",
       "      <td>[0颅内压明显增高6]sym 时可用 呋塞米每次1mg/kg 静推，20% 甘露醇每次0.5...</td>\n",
       "      <td>{'No.0: 颅内压明显增高': {'has_problem': False, 'subj...</td>\n",
       "    </tr>\n",
       "    <tr>\n",
       "      <th>4</th>\n",
       "      <td>治疗过程中脑脊液检查好转，而 [14体温持续不退19]sym ，临床症状不消失；病情好转后又...</td>\n",
       "      <td>{'No.2: 抽搐': {'has_problem': False, 'subject':...</td>\n",
       "    </tr>\n",
       "  </tbody>\n",
       "</table>\n",
       "</div>"
      ],
      "text/plain": [
       "                                                text  \\\n",
       "0  [0NICH3]dis 预后与其出血类型有关。 [15脑室周围18]bod -脑室内出血的近...   \n",
       "1  [0ICH2]dis 的预后与其发病年龄、病因、出血部位及出血量大小等有关。 [30脑动静脉...   \n",
       "2  ①有明显感染 [6病灶7]sym ，如 [10脐炎11]dis 、 [13肺炎14]dis ...   \n",
       "3  [0颅内压明显增高6]sym 时可用 呋塞米每次1mg/kg 静推，20% 甘露醇每次0.5...   \n",
       "4  治疗过程中脑脊液检查好转，而 [14体温持续不退19]sym ，临床症状不消失；病情好转后又...   \n",
       "\n",
       "                                             symptom  \n",
       "0  {'No.0: 脑积水的发生率或病死率越高': {'has_problem': False,...  \n",
       "1  {'No.4: 产生脑积水': {'has_problem': False, 'subjec...  \n",
       "2  {'No.8: 脑脊液鼻漏': {'has_problem': False, 'subjec...  \n",
       "3  {'No.0: 颅内压明显增高': {'has_problem': False, 'subj...  \n",
       "4  {'No.2: 抽搐': {'has_problem': False, 'subject':...  "
      ]
     },
     "execution_count": 2,
     "metadata": {},
     "output_type": "execute_result"
    }
   ],
   "source": [
    "print(train.values[0])\n",
    "train.head()"
   ]
  },
  {
   "cell_type": "markdown",
   "metadata": {
    "colab_type": "text",
    "id": "PB3pmAHkkJXR"
   },
   "source": [
    "## 2、数据格式处理"
   ]
  },
  {
   "cell_type": "markdown",
   "metadata": {
    "colab_type": "text",
    "id": "D0yIiNIhpmPS"
   },
   "source": [
    "### 2.1 原始数据清理\n",
    "\n",
    "清理原始文本中的多余标记\n",
    "\n",
    "tag=[dis,sym,bod,ite]\n",
    "\n",
    "类型1：tag去掉，tag后面的半角空格符号去掉\n",
    "\n",
    "类型2：去掉\"[\"和\"]\"，以及中间的数字，若\"[\"前有空格，则去掉\n"
   ]
  },
  {
   "cell_type": "code",
   "execution_count": 3,
   "metadata": {
    "colab": {},
    "colab_type": "code",
    "id": "uOGbn0W0kIyQ"
   },
   "outputs": [],
   "source": [
    "# step1: 替换所有tag类型\n",
    "# step2: 找到所有'['的位置\n",
    "# step3: 替换\"[\"和\"]\"，以及删除中间的数字（删除不等于替换，删除针对单个元素）\n",
    "def clean_tag(text):\n",
    "    tags=[\"dis\",\"sym\",\"bod\",\"ite\"] #列表\n",
    "    tag_indexs=[] #定义空列表\n",
    "    #替换tag\n",
    "    for t in tags: #遍历列表每个元素\n",
    "        text=text.replace(t,\"\"*3) #将tag替换成“”\n",
    "    \n",
    "    #括号处理\n",
    "    text_list=list(text) #将任何可迭代数据转换为列表类型,并返回转换后的列表\n",
    "    right=[i for i,x in enumerate(text_list) if x ==']'] #找到']'的位置\n",
    "    left=[i for i,x in enumerate(text_list) if x =='[']\n",
    "    numbers=['0','1','2','3','4','5','6','7','8','9']\n",
    "    #删除右括号及数字\n",
    "    if right != -1:\n",
    "        for i in right: #遍历每个']'\n",
    "            j=i-1\n",
    "            while (text_list[j] in numbers): #删除']'及左边的数字\n",
    "                text_list[j]=\" \"\n",
    "                j=j-1\n",
    "    #删除做左括号及数字\n",
    "    if left != -1:\n",
    "        for i in left:\n",
    "            j=i+1\n",
    "            while (text_list[j] in numbers):\n",
    "                text_list[j]=\" \"\n",
    "                j=j+1\n",
    "\n",
    "    #最后替换和整合\n",
    "    text=\"\".join(text_list) #join()用于将序列中的元素以指定的字符连接生成一个新的字符串\n",
    "    text=text.replace(\"]\",\"\").replace(\"[\",\"\").replace(\" \",\"\")\n",
    "    return text"
   ]
  },
  {
   "cell_type": "code",
   "execution_count": 4,
   "metadata": {
    "colab": {
     "base_uri": "https://localhost:8080/",
     "height": 34
    },
    "colab_type": "code",
    "id": "R5ZTdyr8j7A0",
    "outputId": "df992867-4742-4d58-b55b-15ea75dd95f7"
   },
   "outputs": [
    {
     "data": {
      "text/plain": [
       "'幕上硬膜'"
      ]
     },
     "execution_count": 4,
     "metadata": {},
     "output_type": "execute_result"
    }
   ],
   "source": [
    "s=clean_tag(train.values[0][0])\n",
    "s[177:181]#'幕上硬膜'"
   ]
  },
  {
   "cell_type": "markdown",
   "metadata": {
    "colab_type": "text",
    "id": "uqNLOF9mEmyE"
   },
   "source": [
    "### 2.2 json处理"
   ]
  },
  {
   "cell_type": "code",
   "execution_count": 5,
   "metadata": {
    "colab": {
     "base_uri": "https://localhost:8080/",
     "height": 119
    },
    "colab_type": "code",
    "id": "LDQoVyBbEqU7",
    "outputId": "8df7cd53-9b9c-4068-dc96-eb941a33d0c2"
   },
   "outputs": [
    {
     "name": "stdout",
     "output_type": "stream",
     "text": [
      "No.0: 脑积水的发生率或病死率越高\n",
      "No.1: 严重智能减退\n",
      "No.3: 小脑出血\n",
      "No.5: 出血量较小\n",
      "No.4: 新生儿蛛网膜下腔出血\n",
      "No.2: 运动功能障碍\n"
     ]
    }
   ],
   "source": [
    "#import json\n",
    "for item in train['symptom'][0]:\n",
    "    print(item)"
   ]
  },
  {
   "cell_type": "code",
   "execution_count": 6,
   "metadata": {
    "colab": {},
    "colab_type": "code",
    "id": "5ZFvKc9UeG6X"
   },
   "outputs": [],
   "source": [
    "def get_anno_text(line,length):\n",
    "    #每一条数据的处理\n",
    "    #line=train['symptom'][0]\n",
    "    #annotations=['self','subject','body','decorate','frequency','item','disease']\n",
    "    annotations=['subject','body','decorate','frequency','item','disease']\n",
    "    items=[item for item in line] #每一条数据下标注的症状，将for循环的结果存储到列表item中，第一个item是满足条件的值。\n",
    "    #保存每一种症状下，对应标注的位置\n",
    "    anno_pos=[]\n",
    "    for anno in annotations: #遍历每个标签\n",
    "        temp=[]\n",
    "        for item in items: #每一种症状下的标注\n",
    "            anno_len=len(line[item][anno]['pos']) #pos[,]数字的个数\n",
    "            #奇数情况处理\n",
    "            if anno_len%2==1:\n",
    "                #anno_len-=1 #减掉一个也会出现问题，可能中间多了一个错误点\n",
    "                return None #删除这条症状数据\n",
    "            if anno_len!= 0 and anno_len<4: #单个词语位置\n",
    "                temp.append(line[item][anno]['pos'][0:anno_len]) #直接取单个词语位置\n",
    "            elif anno_len!= 0 and anno_len>=4: #多个位置的情况\n",
    "                i=0\n",
    "                while i< anno_len:\n",
    "                    temp.append(line[item][anno]['pos'][i:i+2]) #每次取2个位置\n",
    "                    i+=2\n",
    "            \n",
    "        anno_pos.append(temp)\n",
    "    #print(anno_pos)\n",
    "\n",
    "    #生成与原始文本相同长度的标注，并在标注位置上写明症状\n",
    "    anno_text=list('O'*length) #用全“O”初始化填充列表\n",
    "    anno_text2=list('O'*length)\n",
    "    anno_text3=list('O'*length)\n",
    "    for index in range(len(annotations)): #每一种标注\n",
    "        if len(anno_pos[index]) != 0:\n",
    "            #anno_pos[index]=list(set(anno_pos[index]))\n",
    "            #不对重复的位置进行多次标记\n",
    "            anno_pos_set=[]\n",
    "            for i in anno_pos[index]:\n",
    "                #对于同一个位置上可能出现不同实体相互覆盖的情况，按照实体集合annotations中的先后顺序，后者覆盖前者的策略进行覆盖。\n",
    "                if i not in anno_pos_set:\n",
    "                    anno_pos_set.append(i)\n",
    "            for start , end in anno_pos_set:\n",
    "                #对start和end之间的字符写入标注\n",
    "                #print(index,start,end)\n",
    "                begin=start\n",
    "                while start < end+1 :\n",
    "                    if start >= length:\n",
    "                        #print(\"wrong data \")\n",
    "                        return None\n",
    "                    #@TODO 存在覆盖的情况，因为有的位置可以既是body，又是self\n",
    "                    if anno_text[start] == 'O':\n",
    "                        anno_text[start]=annotations[index] #替换'O'\n",
    "                    else:\n",
    "                        #检查删除重复情况 \n",
    "                        if annotations[index] not in anno_text[start]:\n",
    "                            anno_text[start]=anno_text[start]+\" \"+annotations[index] #多标签\n",
    "                    \n",
    "                    #第二种标注（单标签）\n",
    "                    anno_text2[start]=annotations[index]\n",
    "\n",
    "                    #第三种标注（BIO格式）\n",
    "                    if begin==start: #第一次进入\n",
    "                        anno_text3[start]=\"B-\"+annotations[index]\n",
    "                    else:\n",
    "                        anno_text3[start]=\"I-\"+annotations[index]\n",
    "                    start+=1\n",
    "    #print(len(anno_text),len(anno_text2),len(anno_text3))\n",
    "    return anno_text, anno_text2, anno_text3"
   ]
  },
  {
   "cell_type": "code",
   "execution_count": 7,
   "metadata": {
    "colab": {
     "base_uri": "https://localhost:8080/",
     "height": 391
    },
    "colab_type": "code",
    "id": "3_sEdPB8eVvI",
    "outputId": "753e5b78-7381-4476-c102-027d9689202a"
   },
   "outputs": [
    {
     "name": "stdout",
     "output_type": "stream",
     "text": [
      "sum of wrong data :  63\n",
      "4227 4227 4227\n",
      "sum of wrong data :  7\n",
      "318 318 318\n",
      "sum of wrong data :  37\n",
      "824 824 824\n"
     ]
    },
    {
     "data": {
      "text/html": [
       "<div>\n",
       "<style scoped>\n",
       "    .dataframe tbody tr th:only-of-type {\n",
       "        vertical-align: middle;\n",
       "    }\n",
       "\n",
       "    .dataframe tbody tr th {\n",
       "        vertical-align: top;\n",
       "    }\n",
       "\n",
       "    .dataframe thead th {\n",
       "        text-align: right;\n",
       "    }\n",
       "</style>\n",
       "<table border=\"1\" class=\"dataframe\">\n",
       "  <thead>\n",
       "    <tr style=\"text-align: right;\">\n",
       "      <th></th>\n",
       "      <th>text_clean</th>\n",
       "      <th>anno_text</th>\n",
       "      <th>anno_text2</th>\n",
       "      <th>anno_text3</th>\n",
       "    </tr>\n",
       "  </thead>\n",
       "  <tbody>\n",
       "    <tr>\n",
       "      <th>0</th>\n",
       "      <td>[N, I, C, H, 预, 后, 与, 其, 出, 血, 类, 型, 有, 关, 。, ...</td>\n",
       "      <td>[disease, disease, disease, disease, O, O, O, ...</td>\n",
       "      <td>[disease, disease, disease, disease, O, O, O, ...</td>\n",
       "      <td>[B-disease, I-disease, I-disease, I-disease, O...</td>\n",
       "    </tr>\n",
       "    <tr>\n",
       "      <th>1</th>\n",
       "      <td>[I, C, H, 的, 预, 后, 与, 其, 发, 病, 年, 龄, 、, 病, 因, ...</td>\n",
       "      <td>[O, O, O, O, O, O, O, O, O, O, O, O, O, O, O, ...</td>\n",
       "      <td>[O, O, O, O, O, O, O, O, O, O, O, O, O, O, O, ...</td>\n",
       "      <td>[O, O, O, O, O, O, O, O, O, O, O, O, O, O, O, ...</td>\n",
       "    </tr>\n",
       "    <tr>\n",
       "      <th>2</th>\n",
       "      <td>[①, 有, 明, 显, 感, 染, 病, 灶, ，, 如, 脐, 炎, 、, 肺, 炎, ...</td>\n",
       "      <td>[O, O, O, O, O, O, subject, subject, O, O, O, ...</td>\n",
       "      <td>[O, O, O, O, O, O, subject, subject, O, O, O, ...</td>\n",
       "      <td>[O, O, O, O, O, O, B-subject, I-subject, O, O,...</td>\n",
       "    </tr>\n",
       "    <tr>\n",
       "      <th>3</th>\n",
       "      <td>[颅, 内, 压, 明, 显, 增, 高, 时, 可, 用, 呋, 塞, 米, 每, 次, ...</td>\n",
       "      <td>[item, item, item, decorate, decorate, subject...</td>\n",
       "      <td>[item, item, item, decorate, decorate, subject...</td>\n",
       "      <td>[B-item, I-item, I-item, B-decorate, I-decorat...</td>\n",
       "    </tr>\n",
       "    <tr>\n",
       "      <th>4</th>\n",
       "      <td>[治, 疗, 过, 程, 中, 脑, 脊, 液, 检, 查, 好, 转, ，, 而, 体, ...</td>\n",
       "      <td>[O, O, O, O, O, O, O, O, O, O, O, O, O, O, ite...</td>\n",
       "      <td>[O, O, O, O, O, O, O, O, O, O, O, O, O, O, ite...</td>\n",
       "      <td>[O, O, O, O, O, O, O, O, O, O, O, O, O, O, B-i...</td>\n",
       "    </tr>\n",
       "  </tbody>\n",
       "</table>\n",
       "</div>"
      ],
      "text/plain": [
       "                                          text_clean  \\\n",
       "0  [N, I, C, H, 预, 后, 与, 其, 出, 血, 类, 型, 有, 关, 。, ...   \n",
       "1  [I, C, H, 的, 预, 后, 与, 其, 发, 病, 年, 龄, 、, 病, 因, ...   \n",
       "2  [①, 有, 明, 显, 感, 染, 病, 灶, ，, 如, 脐, 炎, 、, 肺, 炎, ...   \n",
       "3  [颅, 内, 压, 明, 显, 增, 高, 时, 可, 用, 呋, 塞, 米, 每, 次, ...   \n",
       "4  [治, 疗, 过, 程, 中, 脑, 脊, 液, 检, 查, 好, 转, ，, 而, 体, ...   \n",
       "\n",
       "                                           anno_text  \\\n",
       "0  [disease, disease, disease, disease, O, O, O, ...   \n",
       "1  [O, O, O, O, O, O, O, O, O, O, O, O, O, O, O, ...   \n",
       "2  [O, O, O, O, O, O, subject, subject, O, O, O, ...   \n",
       "3  [item, item, item, decorate, decorate, subject...   \n",
       "4  [O, O, O, O, O, O, O, O, O, O, O, O, O, O, ite...   \n",
       "\n",
       "                                          anno_text2  \\\n",
       "0  [disease, disease, disease, disease, O, O, O, ...   \n",
       "1  [O, O, O, O, O, O, O, O, O, O, O, O, O, O, O, ...   \n",
       "2  [O, O, O, O, O, O, subject, subject, O, O, O, ...   \n",
       "3  [item, item, item, decorate, decorate, subject...   \n",
       "4  [O, O, O, O, O, O, O, O, O, O, O, O, O, O, ite...   \n",
       "\n",
       "                                          anno_text3  \n",
       "0  [B-disease, I-disease, I-disease, I-disease, O...  \n",
       "1  [O, O, O, O, O, O, O, O, O, O, O, O, O, O, O, ...  \n",
       "2  [O, O, O, O, O, O, B-subject, I-subject, O, O,...  \n",
       "3  [B-item, I-item, I-item, B-decorate, I-decorat...  \n",
       "4  [O, O, O, O, O, O, O, O, O, O, O, O, O, O, B-i...  "
      ]
     },
     "execution_count": 7,
     "metadata": {},
     "output_type": "execute_result"
    }
   ],
   "source": [
    "#整体数据处理\n",
    "def data_process(df):\n",
    "    text_clean=[]\n",
    "    anno_text=[]\n",
    "    anno_text2=[]\n",
    "    anno_text3=[]\n",
    "    w_indexs=[]\n",
    "    for i in range(len(df)): #遍历每条数据的索引\n",
    "        no_tag=clean_tag(df['text'][i])\n",
    "        text_clean.append(list(no_tag)) #将每个字隔开成列表\n",
    "        #print(i,len(no_tag))\n",
    "        if get_anno_text(df['symptom'][i],len(no_tag)) == None: #len(no_tag)每个文本的字数\n",
    "            w_indexs.append(i)\n",
    "            anno_text.append(None)\n",
    "            anno_text2.append(None)\n",
    "            anno_text3.append(None)\n",
    "        else:\n",
    "            anno, anno2, anno3=get_anno_text(df['symptom'][i],len(no_tag))\n",
    "            anno_text.append(anno)\n",
    "            anno_text2.append(anno2)\n",
    "            anno_text3.append(anno3)\n",
    "    print(\"sum of wrong data : \", len(w_indexs))\n",
    "    #奇数34，越界32\n",
    "    text_clean=list(text_clean)\n",
    "    print(len(text_clean),len(anno_text2),len(anno_text3))\n",
    "    result=pd.DataFrame()\n",
    "    result['text_clean']=text_clean\n",
    "    result['anno_text']=anno_text\n",
    "    result['anno_text2']=anno_text2\n",
    "    result['anno_text3']=anno_text3\n",
    "    #删除有错误的那行数据\n",
    "    result=result.drop(w_indexs)\n",
    "    return result\n",
    "train_clean=data_process(train)\n",
    "dev_clean=data_process(dev)\n",
    "test_clean=data_process(test)\n",
    "train_clean.to_json(\"/Users/yangshoujian/iCloud云盘（归档）/研一/NLP/55/自然语言处理课程作业/作业二：模型训练/dataset/train_clean_v3.txt\") # 按行转json\n",
    "dev_clean.to_json(\"/Users/yangshoujian/iCloud云盘（归档）/研一/NLP/55/自然语言处理课程作业/作业二：模型训练/dataset/dev_clean_v3.txt\")\n",
    "test_clean.to_json(\"/Users/yangshoujian/iCloud云盘（归档）/研一/NLP/55/自然语言处理课程作业/作业二：模型训练/dataset/test_clean_v3.txt\")\n",
    "train_clean.head()"
   ]
  },
  {
   "cell_type": "code",
   "execution_count": 8,
   "metadata": {
    "colab": {
     "base_uri": "https://localhost:8080/",
     "height": 289
    },
    "colab_type": "code",
    "id": "F7Ya3y6_CBRC",
    "outputId": "05b84cf6-c058-4558-aa23-2d4bf8d94dc9"
   },
   "outputs": [
    {
     "data": {
      "text/html": [
       "<div>\n",
       "<style scoped>\n",
       "    .dataframe tbody tr th:only-of-type {\n",
       "        vertical-align: middle;\n",
       "    }\n",
       "\n",
       "    .dataframe tbody tr th {\n",
       "        vertical-align: top;\n",
       "    }\n",
       "\n",
       "    .dataframe thead th {\n",
       "        text-align: right;\n",
       "    }\n",
       "</style>\n",
       "<table border=\"1\" class=\"dataframe\">\n",
       "  <thead>\n",
       "    <tr style=\"text-align: right;\">\n",
       "      <th></th>\n",
       "      <th>text_clean</th>\n",
       "      <th>anno_text</th>\n",
       "      <th>anno_text2</th>\n",
       "      <th>anno_text3</th>\n",
       "    </tr>\n",
       "  </thead>\n",
       "  <tbody>\n",
       "    <tr>\n",
       "      <th>0</th>\n",
       "      <td>[N, I, C, H, 预, 后, 与, 其, 出, 血, 类, 型, 有, 关, 。, ...</td>\n",
       "      <td>[disease, disease, disease, disease, O, O, O, ...</td>\n",
       "      <td>[disease, disease, disease, disease, O, O, O, ...</td>\n",
       "      <td>[B-disease, I-disease, I-disease, I-disease, O...</td>\n",
       "    </tr>\n",
       "    <tr>\n",
       "      <th>1</th>\n",
       "      <td>[I, C, H, 的, 预, 后, 与, 其, 发, 病, 年, 龄, 、, 病, 因, ...</td>\n",
       "      <td>[O, O, O, O, O, O, O, O, O, O, O, O, O, O, O, ...</td>\n",
       "      <td>[O, O, O, O, O, O, O, O, O, O, O, O, O, O, O, ...</td>\n",
       "      <td>[O, O, O, O, O, O, O, O, O, O, O, O, O, O, O, ...</td>\n",
       "    </tr>\n",
       "    <tr>\n",
       "      <th>2</th>\n",
       "      <td>[①, 有, 明, 显, 感, 染, 病, 灶, ，, 如, 脐, 炎, 、, 肺, 炎, ...</td>\n",
       "      <td>[O, O, O, O, O, O, subject, subject, O, O, O, ...</td>\n",
       "      <td>[O, O, O, O, O, O, subject, subject, O, O, O, ...</td>\n",
       "      <td>[O, O, O, O, O, O, B-subject, I-subject, O, O,...</td>\n",
       "    </tr>\n",
       "    <tr>\n",
       "      <th>3</th>\n",
       "      <td>[颅, 内, 压, 明, 显, 增, 高, 时, 可, 用, 呋, 塞, 米, 每, 次, ...</td>\n",
       "      <td>[item, item, item, decorate, decorate, subject...</td>\n",
       "      <td>[item, item, item, decorate, decorate, subject...</td>\n",
       "      <td>[B-item, I-item, I-item, B-decorate, I-decorat...</td>\n",
       "    </tr>\n",
       "    <tr>\n",
       "      <th>4</th>\n",
       "      <td>[治, 疗, 过, 程, 中, 脑, 脊, 液, 检, 查, 好, 转, ，, 而, 体, ...</td>\n",
       "      <td>[O, O, O, O, O, O, O, O, O, O, O, O, O, O, ite...</td>\n",
       "      <td>[O, O, O, O, O, O, O, O, O, O, O, O, O, O, ite...</td>\n",
       "      <td>[O, O, O, O, O, O, O, O, O, O, O, O, O, O, B-i...</td>\n",
       "    </tr>\n",
       "  </tbody>\n",
       "</table>\n",
       "</div>"
      ],
      "text/plain": [
       "                                          text_clean  \\\n",
       "0  [N, I, C, H, 预, 后, 与, 其, 出, 血, 类, 型, 有, 关, 。, ...   \n",
       "1  [I, C, H, 的, 预, 后, 与, 其, 发, 病, 年, 龄, 、, 病, 因, ...   \n",
       "2  [①, 有, 明, 显, 感, 染, 病, 灶, ，, 如, 脐, 炎, 、, 肺, 炎, ...   \n",
       "3  [颅, 内, 压, 明, 显, 增, 高, 时, 可, 用, 呋, 塞, 米, 每, 次, ...   \n",
       "4  [治, 疗, 过, 程, 中, 脑, 脊, 液, 检, 查, 好, 转, ，, 而, 体, ...   \n",
       "\n",
       "                                           anno_text  \\\n",
       "0  [disease, disease, disease, disease, O, O, O, ...   \n",
       "1  [O, O, O, O, O, O, O, O, O, O, O, O, O, O, O, ...   \n",
       "2  [O, O, O, O, O, O, subject, subject, O, O, O, ...   \n",
       "3  [item, item, item, decorate, decorate, subject...   \n",
       "4  [O, O, O, O, O, O, O, O, O, O, O, O, O, O, ite...   \n",
       "\n",
       "                                          anno_text2  \\\n",
       "0  [disease, disease, disease, disease, O, O, O, ...   \n",
       "1  [O, O, O, O, O, O, O, O, O, O, O, O, O, O, O, ...   \n",
       "2  [O, O, O, O, O, O, subject, subject, O, O, O, ...   \n",
       "3  [item, item, item, decorate, decorate, subject...   \n",
       "4  [O, O, O, O, O, O, O, O, O, O, O, O, O, O, ite...   \n",
       "\n",
       "                                          anno_text3  \n",
       "0  [B-disease, I-disease, I-disease, I-disease, O...  \n",
       "1  [O, O, O, O, O, O, O, O, O, O, O, O, O, O, O, ...  \n",
       "2  [O, O, O, O, O, O, B-subject, I-subject, O, O,...  \n",
       "3  [B-item, I-item, I-item, B-decorate, I-decorat...  \n",
       "4  [O, O, O, O, O, O, O, O, O, O, O, O, O, O, B-i...  "
      ]
     },
     "execution_count": 8,
     "metadata": {},
     "output_type": "execute_result"
    }
   ],
   "source": [
    "df1=pd.read_json(\"/Users/yangshoujian/iCloud云盘（归档）/研一/NLP/55/自然语言处理课程作业/作业二：模型训练/dataset/train_clean_v3.txt\")\n",
    "df2=pd.read_json(\"/Users/yangshoujian/iCloud云盘（归档）/研一/NLP/55/自然语言处理课程作业/作业二：模型训练/dataset/dev_clean_v3.txt\")\n",
    "df3=pd.read_json(\"/Users/yangshoujian/iCloud云盘（归档）/研一/NLP/55/自然语言处理课程作业/作业二：模型训练/dataset/test_clean_v3.txt\")\n",
    "df=pd.concat([df1,df2,df3])\n",
    "df.head()"
   ]
  },
  {
   "cell_type": "code",
   "execution_count": 15,
   "metadata": {},
   "outputs": [
    {
     "name": "stdout",
     "output_type": "stream",
     "text": [
      "5262\n"
     ]
    }
   ],
   "source": [
    "print(len(df))"
   ]
  },
  {
   "cell_type": "code",
   "execution_count": 9,
   "metadata": {
    "colab": {
     "base_uri": "https://localhost:8080/",
     "height": 34
    },
    "colab_type": "code",
    "id": "rGmnqI7LDWYi",
    "outputId": "d8f8617e-ca33-43cf-8c62-86ef7b2dd630"
   },
   "outputs": [
    {
     "data": {
      "text/plain": [
       "pandas.core.series.Series"
      ]
     },
     "execution_count": 9,
     "metadata": {},
     "output_type": "execute_result"
    }
   ],
   "source": [
    "l=df['text_clean'][0]\n",
    "type(l)"
   ]
  },
  {
   "cell_type": "code",
   "execution_count": 10,
   "metadata": {
    "colab": {
     "base_uri": "https://localhost:8080/",
     "height": 442
    },
    "colab_type": "code",
    "id": "TJLWwANpJmcC",
    "outputId": "951ad241-c196-4ac7-a9bb-80c255aab4b5"
   },
   "outputs": [
    {
     "name": "stdout",
     "output_type": "stream",
     "text": [
      "24\n"
     ]
    },
    {
     "data": {
      "text/plain": [
       "['disease',\n",
       " 'O',\n",
       " 'body',\n",
       " 'subject',\n",
       " 'decorate',\n",
       " 'frequency',\n",
       " 'subject body',\n",
       " 'item',\n",
       " 'subject decorate',\n",
       " 'body item',\n",
       " 'subject item',\n",
       " 'decorate item',\n",
       " 'body disease',\n",
       " 'decorate frequency',\n",
       " 'body decorate',\n",
       " 'subject disease',\n",
       " 'subject frequency',\n",
       " 'frequency disease',\n",
       " 'decorate disease',\n",
       " 'subject body disease',\n",
       " 'item disease',\n",
       " 'subject body item',\n",
       " 'subject item disease',\n",
       " 'body item disease']"
      ]
     },
     "execution_count": 10,
     "metadata": {},
     "output_type": "execute_result"
    }
   ],
   "source": [
    "tags=[]\n",
    "for anno in df1[\"anno_text\"]:\n",
    "    #print(anno)\n",
    "    for i in anno:\n",
    "        if i not in tags:\n",
    "            tags.append(i)\n",
    "print(len(tags))#有多少种标签\n",
    "tags"
   ]
  },
  {
   "cell_type": "code",
   "execution_count": 11,
   "metadata": {
    "colab": {
     "base_uri": "https://localhost:8080/",
     "height": 51
    },
    "colab_type": "code",
    "id": "Ys2H8wfWOWRs",
    "outputId": "59ed5b43-20af-43d4-cf78-cf92822806e9"
   },
   "outputs": [
    {
     "name": "stdout",
     "output_type": "stream",
     "text": [
      "7\n"
     ]
    },
    {
     "data": {
      "text/plain": [
       "['disease', 'O', 'body', 'subject', 'decorate', 'frequency', 'item']"
      ]
     },
     "execution_count": 11,
     "metadata": {},
     "output_type": "execute_result"
    }
   ],
   "source": [
    "tags=[]\n",
    "for anno in df1[\"anno_text2\"]:\n",
    "    #print(anno)\n",
    "    for i in anno:\n",
    "        if i not in tags:\n",
    "            tags.append(i)\n",
    "print(len(tags))#有多少种标签\n",
    "tags"
   ]
  },
  {
   "cell_type": "code",
   "execution_count": 12,
   "metadata": {
    "colab": {
     "base_uri": "https://localhost:8080/",
     "height": 255
    },
    "colab_type": "code",
    "id": "dtbVBPsCCfHx",
    "outputId": "f8e9e731-0def-4ba5-ecdd-c7f6b8ef0862"
   },
   "outputs": [
    {
     "name": "stdout",
     "output_type": "stream",
     "text": [
      "13\n"
     ]
    },
    {
     "data": {
      "text/plain": [
       "['B-disease',\n",
       " 'I-disease',\n",
       " 'O',\n",
       " 'B-body',\n",
       " 'I-body',\n",
       " 'B-subject',\n",
       " 'I-subject',\n",
       " 'B-decorate',\n",
       " 'I-decorate',\n",
       " 'B-frequency',\n",
       " 'I-frequency',\n",
       " 'B-item',\n",
       " 'I-item']"
      ]
     },
     "execution_count": 12,
     "metadata": {},
     "output_type": "execute_result"
    }
   ],
   "source": [
    "tags=[]\n",
    "for anno in df[\"anno_text3\"]:\n",
    "    #print(anno)\n",
    "    for i in anno:\n",
    "        if i not in tags:\n",
    "            tags.append(i)\n",
    "print(len(tags))#有多少种标签\n",
    "tags"
   ]
  },
  {
   "cell_type": "code",
   "execution_count": 13,
   "metadata": {
    "colab": {
     "base_uri": "https://localhost:8080/",
     "height": 1000
    },
    "colab_type": "code",
    "id": "EUcWOwhHCvq8",
    "outputId": "92528c8a-70a9-4e8a-859d-0db01df95a16"
   },
   "outputs": [
    {
     "data": {
      "text/plain": [
       "['B-disease',\n",
       " 'I-disease',\n",
       " 'I-disease',\n",
       " 'I-disease',\n",
       " 'O',\n",
       " 'O',\n",
       " 'O',\n",
       " 'O',\n",
       " 'O',\n",
       " 'O',\n",
       " 'O',\n",
       " 'O',\n",
       " 'O',\n",
       " 'O',\n",
       " 'O',\n",
       " 'B-body',\n",
       " 'I-body',\n",
       " 'I-body',\n",
       " 'I-body',\n",
       " 'O',\n",
       " 'O',\n",
       " 'O',\n",
       " 'O',\n",
       " 'O',\n",
       " 'O',\n",
       " 'O',\n",
       " 'O',\n",
       " 'O',\n",
       " 'O',\n",
       " 'O',\n",
       " 'O',\n",
       " 'O',\n",
       " 'O',\n",
       " 'O',\n",
       " 'O',\n",
       " 'O',\n",
       " 'O',\n",
       " 'O',\n",
       " 'O',\n",
       " 'O',\n",
       " 'O',\n",
       " 'O',\n",
       " 'O',\n",
       " 'O',\n",
       " 'O',\n",
       " 'O',\n",
       " 'O',\n",
       " 'O',\n",
       " 'O',\n",
       " 'O',\n",
       " 'O',\n",
       " 'B-subject',\n",
       " 'I-subject',\n",
       " 'I-subject',\n",
       " 'I-subject',\n",
       " 'I-subject',\n",
       " 'I-subject',\n",
       " 'I-subject',\n",
       " 'I-subject',\n",
       " 'I-subject',\n",
       " 'O',\n",
       " 'O',\n",
       " 'O',\n",
       " 'O',\n",
       " 'O',\n",
       " 'O',\n",
       " 'O',\n",
       " 'O',\n",
       " 'O',\n",
       " 'O',\n",
       " 'O',\n",
       " 'O',\n",
       " 'O',\n",
       " 'O',\n",
       " 'B-decorate',\n",
       " 'I-decorate',\n",
       " 'B-subject',\n",
       " 'I-subject',\n",
       " 'I-subject',\n",
       " 'I-subject',\n",
       " 'O',\n",
       " 'O',\n",
       " 'O',\n",
       " 'O',\n",
       " 'O',\n",
       " 'B-subject',\n",
       " 'I-subject',\n",
       " 'O',\n",
       " 'O',\n",
       " 'B-body',\n",
       " 'I-body',\n",
       " 'B-subject',\n",
       " 'I-subject',\n",
       " 'O',\n",
       " 'O',\n",
       " 'O',\n",
       " 'O',\n",
       " 'O',\n",
       " 'O',\n",
       " 'O',\n",
       " 'O',\n",
       " 'O',\n",
       " 'O',\n",
       " 'O',\n",
       " 'O',\n",
       " 'O',\n",
       " 'O',\n",
       " 'O',\n",
       " 'O',\n",
       " 'B-body',\n",
       " 'I-body',\n",
       " 'I-body',\n",
       " 'I-body',\n",
       " 'I-body',\n",
       " 'B-subject',\n",
       " 'I-subject',\n",
       " 'O',\n",
       " 'O',\n",
       " 'O',\n",
       " 'O',\n",
       " 'O',\n",
       " 'O',\n",
       " 'O',\n",
       " 'O',\n",
       " 'O',\n",
       " 'O',\n",
       " 'B-subject',\n",
       " 'I-subject',\n",
       " 'I-subject',\n",
       " 'B-decorate',\n",
       " 'I-decorate',\n",
       " 'O',\n",
       " 'O',\n",
       " 'O',\n",
       " 'O',\n",
       " 'O',\n",
       " 'O',\n",
       " 'O',\n",
       " 'O',\n",
       " 'O',\n",
       " 'O',\n",
       " 'O',\n",
       " 'O',\n",
       " 'O',\n",
       " 'O',\n",
       " 'O',\n",
       " 'O',\n",
       " 'O',\n",
       " 'O',\n",
       " 'O',\n",
       " 'O',\n",
       " 'O',\n",
       " 'O',\n",
       " 'O',\n",
       " 'O',\n",
       " 'O',\n",
       " 'O',\n",
       " 'O',\n",
       " 'O',\n",
       " 'O',\n",
       " 'O',\n",
       " 'O',\n",
       " 'O',\n",
       " 'O',\n",
       " 'O',\n",
       " 'O',\n",
       " 'O',\n",
       " 'O',\n",
       " 'O',\n",
       " 'O',\n",
       " 'O',\n",
       " 'O',\n",
       " 'O',\n",
       " 'O',\n",
       " 'O',\n",
       " 'O',\n",
       " 'O',\n",
       " 'O',\n",
       " 'O',\n",
       " 'O',\n",
       " 'O',\n",
       " 'O',\n",
       " 'O',\n",
       " 'O',\n",
       " 'O',\n",
       " 'O',\n",
       " 'O',\n",
       " 'O',\n",
       " 'O',\n",
       " 'O',\n",
       " 'O',\n",
       " 'O',\n",
       " 'O',\n",
       " 'O',\n",
       " 'O',\n",
       " 'O',\n",
       " 'O',\n",
       " 'O',\n",
       " 'O',\n",
       " 'O',\n",
       " 'O',\n",
       " 'O',\n",
       " 'O']"
      ]
     },
     "execution_count": 13,
     "metadata": {},
     "output_type": "execute_result"
    }
   ],
   "source": [
    "df1[\"anno_text3\"][0]"
   ]
  }
 ],
 "metadata": {
  "colab": {
   "collapsed_sections": [],
   "name": "dataset.ipynb",
   "provenance": []
  },
  "kernelspec": {
   "display_name": "Python 3",
   "language": "python",
   "name": "python3"
  },
  "language_info": {
   "codemirror_mode": {
    "name": "ipython",
    "version": 3
   },
   "file_extension": ".py",
   "mimetype": "text/x-python",
   "name": "python",
   "nbconvert_exporter": "python",
   "pygments_lexer": "ipython3",
   "version": "3.7.6"
  }
 },
 "nbformat": 4,
 "nbformat_minor": 1
}
