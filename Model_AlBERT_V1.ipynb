{
 "cells": [
  {
   "cell_type": "markdown",
   "metadata": {
    "colab_type": "text",
    "id": "0gGTixRYDYAN"
   },
   "source": [
    "# 导入数据"
   ]
  },
  {
   "cell_type": "code",
   "execution_count": 0,
   "metadata": {
    "colab": {
     "base_uri": "https://localhost:8080/",
     "height": 121
    },
    "colab_type": "code",
    "id": "rEY-z4UCAQuO",
    "outputId": "40ce6880-baeb-4498-b76f-3c3614d06c40"
   },
   "outputs": [
    {
     "name": "stdout",
     "output_type": "stream",
     "text": [
      "Go to this URL in a browser: https://accounts.google.com/o/oauth2/auth?client_id=947318989803-6bn6qk8qdgf4n4g3pfee6491hc0brc4i.apps.googleusercontent.com&redirect_uri=urn%3aietf%3awg%3aoauth%3a2.0%3aoob&response_type=code&scope=email%20https%3a%2f%2fwww.googleapis.com%2fauth%2fdocs.test%20https%3a%2f%2fwww.googleapis.com%2fauth%2fdrive%20https%3a%2f%2fwww.googleapis.com%2fauth%2fdrive.photos.readonly%20https%3a%2f%2fwww.googleapis.com%2fauth%2fpeopleapi.readonly\n",
      "\n",
      "Enter your authorization code:\n",
      "··········\n",
      "Mounted at /content/drive\n"
     ]
    }
   ],
   "source": [
    "from google.colab import drive\n",
    "drive.mount('/content/drive')"
   ]
  },
  {
   "cell_type": "code",
   "execution_count": 0,
   "metadata": {
    "colab": {},
    "colab_type": "code",
    "id": "Yny6UfoHDL__"
   },
   "outputs": [],
   "source": [
    "import os \n",
    "path=\"/content/drive/My Drive/Colab Notebooks/NLP/Project/\"\n",
    "os.chdir(path)"
   ]
  },
  {
   "cell_type": "code",
   "execution_count": 0,
   "metadata": {
    "colab": {
     "base_uri": "https://localhost:8080/",
     "height": 235
    },
    "colab_type": "code",
    "id": "IJgNMRVLNYTZ",
    "outputId": "45cc39c1-4e15-4ead-ce21-1e7e99394198"
   },
   "outputs": [
    {
     "name": "stdout",
     "output_type": "stream",
     "text": [
      "Uninstalling tensorflow-2.2.0:\n",
      "  Would remove:\n",
      "    /usr/local/bin/estimator_ckpt_converter\n",
      "    /usr/local/bin/saved_model_cli\n",
      "    /usr/local/bin/tensorboard\n",
      "    /usr/local/bin/tf_upgrade_v2\n",
      "    /usr/local/bin/tflite_convert\n",
      "    /usr/local/bin/toco\n",
      "    /usr/local/bin/toco_from_protos\n",
      "    /usr/local/lib/python3.6/dist-packages/tensorflow-2.2.0.dist-info/*\n",
      "    /usr/local/lib/python3.6/dist-packages/tensorflow/*\n",
      "Proceed (y/n)? y\n",
      "  Successfully uninstalled tensorflow-2.2.0\n"
     ]
    }
   ],
   "source": [
    "!pip uninstall tensorflow"
   ]
  },
  {
   "cell_type": "code",
   "execution_count": 0,
   "metadata": {
    "colab": {
     "base_uri": "https://localhost:8080/",
     "height": 730
    },
    "colab_type": "code",
    "id": "zdUb9BPTNtEa",
    "outputId": "a92f5adc-4a3b-4d91-ce57-ef52606536e3"
   },
   "outputs": [
    {
     "name": "stdout",
     "output_type": "stream",
     "text": [
      "Collecting tensorflow==1.13.1\n",
      "\u001b[?25l  Downloading https://files.pythonhosted.org/packages/77/63/a9fa76de8dffe7455304c4ed635be4aa9c0bacef6e0633d87d5f54530c5c/tensorflow-1.13.1-cp36-cp36m-manylinux1_x86_64.whl (92.5MB)\n",
      "\u001b[K     |████████████████████████████████| 92.5MB 92kB/s \n",
      "\u001b[?25hCollecting tensorboard<1.14.0,>=1.13.0\n",
      "\u001b[?25l  Downloading https://files.pythonhosted.org/packages/0f/39/bdd75b08a6fba41f098b6cb091b9e8c7a80e1b4d679a581a0ccd17b10373/tensorboard-1.13.1-py3-none-any.whl (3.2MB)\n",
      "\u001b[K     |████████████████████████████████| 3.2MB 34.5MB/s \n",
      "\u001b[?25hRequirement already satisfied: six>=1.10.0 in /usr/local/lib/python3.6/dist-packages (from tensorflow==1.13.1) (1.12.0)\n",
      "Requirement already satisfied: termcolor>=1.1.0 in /usr/local/lib/python3.6/dist-packages (from tensorflow==1.13.1) (1.1.0)\n",
      "Requirement already satisfied: absl-py>=0.1.6 in /usr/local/lib/python3.6/dist-packages (from tensorflow==1.13.1) (0.9.0)\n",
      "Requirement already satisfied: protobuf>=3.6.1 in /usr/local/lib/python3.6/dist-packages (from tensorflow==1.13.1) (3.10.0)\n",
      "Requirement already satisfied: grpcio>=1.8.6 in /usr/local/lib/python3.6/dist-packages (from tensorflow==1.13.1) (1.29.0)\n",
      "Collecting tensorflow-estimator<1.14.0rc0,>=1.13.0\n",
      "\u001b[?25l  Downloading https://files.pythonhosted.org/packages/bb/48/13f49fc3fa0fdf916aa1419013bb8f2ad09674c275b4046d5ee669a46873/tensorflow_estimator-1.13.0-py2.py3-none-any.whl (367kB)\n",
      "\u001b[K     |████████████████████████████████| 368kB 32.5MB/s \n",
      "\u001b[?25hRequirement already satisfied: keras-preprocessing>=1.0.5 in /usr/local/lib/python3.6/dist-packages (from tensorflow==1.13.1) (1.1.2)\n",
      "Requirement already satisfied: wheel>=0.26 in /usr/local/lib/python3.6/dist-packages (from tensorflow==1.13.1) (0.34.2)\n",
      "Requirement already satisfied: astor>=0.6.0 in /usr/local/lib/python3.6/dist-packages (from tensorflow==1.13.1) (0.8.1)\n",
      "Requirement already satisfied: numpy>=1.13.3 in /usr/local/lib/python3.6/dist-packages (from tensorflow==1.13.1) (1.18.5)\n",
      "Requirement already satisfied: gast>=0.2.0 in /usr/local/lib/python3.6/dist-packages (from tensorflow==1.13.1) (0.3.3)\n",
      "Requirement already satisfied: keras-applications>=1.0.6 in /usr/local/lib/python3.6/dist-packages (from tensorflow==1.13.1) (1.0.8)\n",
      "Requirement already satisfied: werkzeug>=0.11.15 in /usr/local/lib/python3.6/dist-packages (from tensorboard<1.14.0,>=1.13.0->tensorflow==1.13.1) (1.0.1)\n",
      "Requirement already satisfied: markdown>=2.6.8 in /usr/local/lib/python3.6/dist-packages (from tensorboard<1.14.0,>=1.13.0->tensorflow==1.13.1) (3.2.2)\n",
      "Requirement already satisfied: setuptools in /usr/local/lib/python3.6/dist-packages (from protobuf>=3.6.1->tensorflow==1.13.1) (47.1.1)\n",
      "Collecting mock>=2.0.0\n",
      "  Downloading https://files.pythonhosted.org/packages/cd/74/d72daf8dff5b6566db857cfd088907bb0355f5dd2914c4b3ef065c790735/mock-4.0.2-py3-none-any.whl\n",
      "Requirement already satisfied: h5py in /usr/local/lib/python3.6/dist-packages (from keras-applications>=1.0.6->tensorflow==1.13.1) (2.10.0)\n",
      "Requirement already satisfied: importlib-metadata; python_version < \"3.8\" in /usr/local/lib/python3.6/dist-packages (from markdown>=2.6.8->tensorboard<1.14.0,>=1.13.0->tensorflow==1.13.1) (1.6.0)\n",
      "Requirement already satisfied: zipp>=0.5 in /usr/local/lib/python3.6/dist-packages (from importlib-metadata; python_version < \"3.8\"->markdown>=2.6.8->tensorboard<1.14.0,>=1.13.0->tensorflow==1.13.1) (3.1.0)\n",
      "Installing collected packages: tensorboard, mock, tensorflow-estimator, tensorflow\n",
      "  Found existing installation: tensorboard 2.2.2\n",
      "    Uninstalling tensorboard-2.2.2:\n",
      "      Successfully uninstalled tensorboard-2.2.2\n",
      "  Found existing installation: tensorflow-estimator 2.2.0\n",
      "    Uninstalling tensorflow-estimator-2.2.0:\n",
      "      Successfully uninstalled tensorflow-estimator-2.2.0\n",
      "Successfully installed mock-4.0.2 tensorboard-1.13.1 tensorflow-1.13.1 tensorflow-estimator-1.13.0\n"
     ]
    },
    {
     "data": {
      "application/vnd.colab-display-data+json": {
       "pip_warning": {
        "packages": [
         "tensorboard",
         "tensorflow"
        ]
       }
      }
     },
     "metadata": {
      "tags": []
     },
     "output_type": "display_data"
    }
   ],
   "source": [
    "!pip install tensorflow==1.13.1"
   ]
  },
  {
   "cell_type": "code",
   "execution_count": 0,
   "metadata": {
    "colab": {},
    "colab_type": "code",
    "id": "S-znUPy1voGc"
   },
   "outputs": [],
   "source": [
    "from albert_zh.extract_feature import BertVector"
   ]
  },
  {
   "cell_type": "code",
   "execution_count": 0,
   "metadata": {
    "colab": {
     "base_uri": "https://localhost:8080/",
     "height": 195
    },
    "colab_type": "code",
    "id": "mp23lvQgDcXm",
    "outputId": "ee8d094d-801a-4167-ec5b-70a79ad96639"
   },
   "outputs": [
    {
     "data": {
      "text/html": [
       "<div>\n",
       "<style scoped>\n",
       "    .dataframe tbody tr th:only-of-type {\n",
       "        vertical-align: middle;\n",
       "    }\n",
       "\n",
       "    .dataframe tbody tr th {\n",
       "        vertical-align: top;\n",
       "    }\n",
       "\n",
       "    .dataframe thead th {\n",
       "        text-align: right;\n",
       "    }\n",
       "</style>\n",
       "<table border=\"1\" class=\"dataframe\">\n",
       "  <thead>\n",
       "    <tr style=\"text-align: right;\">\n",
       "      <th></th>\n",
       "      <th>text_clean</th>\n",
       "      <th>anno_text</th>\n",
       "      <th>anno_text2</th>\n",
       "    </tr>\n",
       "  </thead>\n",
       "  <tbody>\n",
       "    <tr>\n",
       "      <th>0</th>\n",
       "      <td>[N, I, C, H, 预, 后, 与, 其, 出, 血, 类, 型, 有, 关, 。, ...</td>\n",
       "      <td>[disease, disease, disease, disease, 0, 0, 0, ...</td>\n",
       "      <td>[disease, disease, disease, disease, 0, 0, 0, ...</td>\n",
       "    </tr>\n",
       "    <tr>\n",
       "      <th>1</th>\n",
       "      <td>[I, C, H, 的, 预, 后, 与, 其, 发, 病, 年, 龄, 、, 病, 因, ...</td>\n",
       "      <td>[0, 0, 0, 0, 0, 0, 0, 0, 0, 0, 0, 0, 0, 0, 0, ...</td>\n",
       "      <td>[0, 0, 0, 0, 0, 0, 0, 0, 0, 0, 0, 0, 0, 0, 0, ...</td>\n",
       "    </tr>\n",
       "    <tr>\n",
       "      <th>2</th>\n",
       "      <td>[①, 有, 明, 显, 感, 染, 病, 灶, ，, 如, 脐, 炎, 、, 肺, 炎, ...</td>\n",
       "      <td>[0, 0, 0, 0, 0, 0, subject, subject, 0, 0, 0, ...</td>\n",
       "      <td>[0, 0, 0, 0, 0, 0, subject, subject, 0, 0, 0, ...</td>\n",
       "    </tr>\n",
       "    <tr>\n",
       "      <th>3</th>\n",
       "      <td>[颅, 内, 压, 明, 显, 增, 高, 时, 可, 用, 呋, 塞, 米, 每, 次, ...</td>\n",
       "      <td>[item, item, item, decorate, decorate, subject...</td>\n",
       "      <td>[item, item, item, decorate, decorate, subject...</td>\n",
       "    </tr>\n",
       "    <tr>\n",
       "      <th>4</th>\n",
       "      <td>[治, 疗, 过, 程, 中, 脑, 脊, 液, 检, 查, 好, 转, ，, 而, 体, ...</td>\n",
       "      <td>[0, 0, 0, 0, 0, 0, 0, 0, 0, 0, 0, 0, 0, 0, ite...</td>\n",
       "      <td>[0, 0, 0, 0, 0, 0, 0, 0, 0, 0, 0, 0, 0, 0, ite...</td>\n",
       "    </tr>\n",
       "  </tbody>\n",
       "</table>\n",
       "</div>"
      ],
      "text/plain": [
       "                                          text_clean  ...                                         anno_text2\n",
       "0  [N, I, C, H, 预, 后, 与, 其, 出, 血, 类, 型, 有, 关, 。, ...  ...  [disease, disease, disease, disease, 0, 0, 0, ...\n",
       "1  [I, C, H, 的, 预, 后, 与, 其, 发, 病, 年, 龄, 、, 病, 因, ...  ...  [0, 0, 0, 0, 0, 0, 0, 0, 0, 0, 0, 0, 0, 0, 0, ...\n",
       "2  [①, 有, 明, 显, 感, 染, 病, 灶, ，, 如, 脐, 炎, 、, 肺, 炎, ...  ...  [0, 0, 0, 0, 0, 0, subject, subject, 0, 0, 0, ...\n",
       "3  [颅, 内, 压, 明, 显, 增, 高, 时, 可, 用, 呋, 塞, 米, 每, 次, ...  ...  [item, item, item, decorate, decorate, subject...\n",
       "4  [治, 疗, 过, 程, 中, 脑, 脊, 液, 检, 查, 好, 转, ，, 而, 体, ...  ...  [0, 0, 0, 0, 0, 0, 0, 0, 0, 0, 0, 0, 0, 0, ite...\n",
       "\n",
       "[5 rows x 3 columns]"
      ]
     },
     "execution_count": 6,
     "metadata": {
      "tags": []
     },
     "output_type": "execute_result"
    }
   ],
   "source": [
    "import pandas as pd\n",
    "train=pd.read_json(\"train_clean.txt\")\n",
    "train.head()"
   ]
  },
  {
   "cell_type": "code",
   "execution_count": 0,
   "metadata": {
    "colab": {
     "base_uri": "https://localhost:8080/",
     "height": 282
    },
    "colab_type": "code",
    "id": "TpkryC5_D7c8",
    "outputId": "b59b6c1d-6bdb-4353-a26d-572752769695"
   },
   "outputs": [
    {
     "data": {
      "image/png": "[encoded data removed]",
      "text/plain": [
       "<Figure size 432x288 with 1 Axes>"
      ]
     },
     "metadata": {
      "needs_background": "light",
      "tags": []
     },
     "output_type": "display_data"
    },
    {
     "name": "stdout",
     "output_type": "stream",
     "text": [
      "<class 'list'>\n"
     ]
    }
   ],
   "source": [
    "import matplotlib.pyplot as plt\n",
    "totalNumWords = [len(one_text) for one_text in train[\"text_clean\"]]\n",
    "plt.hist(totalNumWords)\n",
    "plt.show()\n",
    "print(type(train[\"text_clean\"][0]))"
   ]
  },
  {
   "cell_type": "code",
   "execution_count": 0,
   "metadata": {
    "colab": {
     "base_uri": "https://localhost:8080/",
     "height": 34
    },
    "colab_type": "code",
    "id": "Bz73gfhLFIYg",
    "outputId": "bc0a5302-98e7-48a8-97df-8de2bd5b0683"
   },
   "outputs": [
    {
     "data": {
      "text/plain": [
       "(4, 1080)"
      ]
     },
     "execution_count": 8,
     "metadata": {
      "tags": []
     },
     "output_type": "execute_result"
    }
   ],
   "source": [
    "maxlen=400\n",
    "min(totalNumWords),max(totalNumWords)"
   ]
  },
  {
   "cell_type": "code",
   "execution_count": 0,
   "metadata": {
    "colab": {
     "base_uri": "https://localhost:8080/",
     "height": 34
    },
    "colab_type": "code",
    "id": "gUzoDj-rFwWf",
    "outputId": "c8197593-3852-4323-8093-b85a674d6dd5"
   },
   "outputs": [
    {
     "data": {
      "text/plain": [
       "7"
      ]
     },
     "execution_count": 9,
     "metadata": {
      "tags": []
     },
     "output_type": "execute_result"
    }
   ],
   "source": [
    "tags=[]\n",
    "for anno in train[\"anno_text2\"]:\n",
    "    #print(anno)\n",
    "    for i in anno:\n",
    "        if i not in tags:\n",
    "            tags.append(i)\n",
    "\n",
    "n_tags=len(tags)\n",
    "len(tags)"
   ]
  },
  {
   "cell_type": "markdown",
   "metadata": {
    "colab_type": "text",
    "id": "aQ0AwSn-lpgz"
   },
   "source": [
    "# 格式化输入"
   ]
  },
  {
   "cell_type": "code",
   "execution_count": 0,
   "metadata": {
    "colab": {
     "base_uri": "https://localhost:8080/",
     "height": 34
    },
    "colab_type": "code",
    "id": "ZJzC5EK7lVoN",
    "outputId": "6f71e05c-c52b-43ff-c70d-30d3ccf0199a"
   },
   "outputs": [
    {
     "name": "stdout",
     "output_type": "stream",
     "text": [
      "7\n"
     ]
    }
   ],
   "source": [
    "from future.utils import iteritems\n",
    "tag2idx = {t: i for i, t in enumerate(tags)}\n",
    "idx2tag = {v: k for k, v in iteritems(tag2idx)}\n",
    "print(len(tag2idx))"
   ]
  },
  {
   "cell_type": "code",
   "execution_count": 0,
   "metadata": {
    "colab": {
     "base_uri": "https://localhost:8080/",
     "height": 286
    },
    "colab_type": "code",
    "id": "N1HvKhmnfCC9",
    "outputId": "355bc822-a8bf-45c4-8ff9-45518dd65f18"
   },
   "outputs": [
    {
     "name": "stderr",
     "output_type": "stream",
     "text": [
      "I:\u001b[33mBERT_VEC\u001b[0m:[graph:opt: 48]:model config: /content/drive/My Drive/Colab Notebooks/NLP/Project/albert_zh/albert_tiny/albert_config_tiny.json\n",
      "I:\u001b[33mBERT_VEC\u001b[0m:[graph:opt: 54]:build graph...\n"
     ]
    },
    {
     "name": "stdout",
     "output_type": "stream",
     "text": [
      "\n",
      "WARNING: The TensorFlow contrib module will not be included in TensorFlow 2.0.\n",
      "For more information, please see:\n",
      "  * https://github.com/tensorflow/community/blob/master/rfcs/20180907-contrib-sunset.md\n",
      "  * https://github.com/tensorflow/addons\n",
      "If you depend on functionality not listed there, please file an issue.\n",
      "\n",
      "embedding_lookup_factorized. factorized embedding parameterization is used.\n",
      "ln_type: postln\n",
      "old structure of transformer.use: transformer_model,which use post-LN\n"
     ]
    },
    {
     "name": "stderr",
     "output_type": "stream",
     "text": [
      "I:\u001b[33mBERT_VEC\u001b[0m:[graph:opt:128]:load parameters from checkpoint...\n",
      "I:\u001b[33mBERT_VEC\u001b[0m:[graph:opt:130]:freeze...\n",
      "I:\u001b[33mBERT_VEC\u001b[0m:[graph:opt:133]:optimize...\n",
      "I:\u001b[33mBERT_VEC\u001b[0m:[graph:opt:144]:write graph to a tmp file: ./tmp_graph11\n"
     ]
    }
   ],
   "source": [
    "# adding albert提取特征\n",
    "bert_model = BertVector(pooling_strategy=\"NONE\", max_seq_len=maxlen)\n",
    "f = lambda text: bert_model.encode([text])[\"encodes\"][0]"
   ]
  },
  {
   "cell_type": "code",
   "execution_count": 0,
   "metadata": {
    "colab": {
     "base_uri": "https://localhost:8080/",
     "height": 235
    },
    "colab_type": "code",
    "id": "yPBkmlruY4jY",
    "outputId": "231704ec-5712-448b-aa54-f503d1ede63f"
   },
   "outputs": [
    {
     "name": "stderr",
     "output_type": "stream",
     "text": [
      "Using TensorFlow backend.\n",
      "Processing:   0%|          | 0/4164 [00:00<?, ?it/s]"
     ]
    },
    {
     "name": "stdout",
     "output_type": "stream",
     "text": [
      "start albert encoding\n"
     ]
    },
    {
     "name": "stderr",
     "output_type": "stream",
     "text": [
      "Processing: 100%|██████████| 4164/4164 [15:21<00:00,  4.52it/s]\n"
     ]
    },
    {
     "name": "stdout",
     "output_type": "stream",
     "text": [
      "end albert encoding\n",
      "(4164, 400, 312) (4164, 400, 7)\n"
     ]
    },
    {
     "name": "stderr",
     "output_type": "stream",
     "text": [
      "Processing:   0%|          | 0/311 [00:00<?, ?it/s]"
     ]
    },
    {
     "name": "stdout",
     "output_type": "stream",
     "text": [
      "start albert encoding\n"
     ]
    },
    {
     "name": "stderr",
     "output_type": "stream",
     "text": [
      "Processing: 100%|██████████| 311/311 [02:46<00:00,  1.87it/s]\n"
     ]
    },
    {
     "name": "stdout",
     "output_type": "stream",
     "text": [
      "end albert encoding\n",
      "(311, 400, 312) (311, 400, 7)\n"
     ]
    },
    {
     "name": "stderr",
     "output_type": "stream",
     "text": [
      "Processing:   0%|          | 0/787 [00:00<?, ?it/s]"
     ]
    },
    {
     "name": "stdout",
     "output_type": "stream",
     "text": [
      "start albert encoding\n"
     ]
    },
    {
     "name": "stderr",
     "output_type": "stream",
     "text": [
      "Processing: 100%|██████████| 787/787 [05:55<00:00,  2.22it/s]\n"
     ]
    },
    {
     "name": "stdout",
     "output_type": "stream",
     "text": [
      "end albert encoding\n",
      "(787, 400, 312) (787, 400, 7)\n"
     ]
    }
   ],
   "source": [
    "from tqdm import tqdm\n",
    "from keras.preprocessing.sequence import pad_sequences\n",
    "from keras.utils import to_categorical\n",
    "import numpy as np\n",
    "# adding bert初始化数据\n",
    "def read_data(path):\n",
    "    filepd = pd.read_json(path)\n",
    "    # albert encoding\n",
    "    sentences = [\"\".join(wordlist) for wordlist in filepd[\"text_clean\"]]\n",
    "    x = []\n",
    "    print(\"start albert encoding\")\n",
    "    processor_bar = tqdm(sentences)\n",
    "    for bar, sentence in zip(processor_bar, sentences):\n",
    "        processor_bar.set_description(\"Processing\")\n",
    "        x.append(f(sentence))\n",
    "    x = np.array(x)\n",
    "    print(\"end albert encoding\")\n",
    "    tag2idx = {t: i for i, t in enumerate(tags)}\n",
    "    idx2tag = {v: k for k, v in iteritems(tag2idx)}\n",
    "    y = [[tag2idx[w] for w in s] for s in filepd[\"anno_text2\"]]  # 单标签\n",
    "    y = pad_sequences(maxlen=maxlen, sequences=y, padding=\"post\", value=tag2idx[\"0\"])\n",
    "    y = [to_categorical(i, num_classes=n_tags) for i in y]\n",
    "    y = np.array(y)\n",
    "    print(np.shape(x), np.shape(y))\n",
    "    return x, y\n",
    "\n",
    "# 读取训练集，验证集和测试集数据\n",
    "train_x, train_y = read_data(\"train_clean.txt\")\n",
    "dev_x, dev_y = read_data(\"dev_clean.txt\")\n",
    "test_x, test_y = read_data(\"test_clean.txt\")\n",
    "\n"
   ]
  },
  {
   "cell_type": "markdown",
   "metadata": {
    "colab_type": "text",
    "id": "zgZnjdsJKGcN"
   },
   "source": [
    "# 模型\n"
   ]
  },
  {
   "cell_type": "code",
   "execution_count": 0,
   "metadata": {
    "colab": {
     "base_uri": "https://localhost:8080/",
     "height": 339
    },
    "colab_type": "code",
    "id": "CgdD1720LNPr",
    "outputId": "5e67ac2b-1fd5-4649-beb6-d654e14ed404"
   },
   "outputs": [
    {
     "name": "stdout",
     "output_type": "stream",
     "text": [
      "Collecting git+https://www.github.com/keras-team/keras-contrib.git\n",
      "  Cloning https://www.github.com/keras-team/keras-contrib.git to /tmp/pip-req-build-sveee3m5\n",
      "  Running command git clone -q https://www.github.com/keras-team/keras-contrib.git /tmp/pip-req-build-sveee3m5\n",
      "Requirement already satisfied: keras in /usr/local/lib/python3.6/dist-packages (from keras-contrib==2.0.8) (2.3.1)\n",
      "Requirement already satisfied: six>=1.9.0 in /usr/local/lib/python3.6/dist-packages (from keras->keras-contrib==2.0.8) (1.12.0)\n",
      "Requirement already satisfied: numpy>=1.9.1 in /usr/local/lib/python3.6/dist-packages (from keras->keras-contrib==2.0.8) (1.18.5)\n",
      "Requirement already satisfied: h5py in /usr/local/lib/python3.6/dist-packages (from keras->keras-contrib==2.0.8) (2.10.0)\n",
      "Requirement already satisfied: keras-preprocessing>=1.0.5 in /usr/local/lib/python3.6/dist-packages (from keras->keras-contrib==2.0.8) (1.1.2)\n",
      "Requirement already satisfied: keras-applications>=1.0.6 in /usr/local/lib/python3.6/dist-packages (from keras->keras-contrib==2.0.8) (1.0.8)\n",
      "Requirement already satisfied: scipy>=0.14 in /usr/local/lib/python3.6/dist-packages (from keras->keras-contrib==2.0.8) (1.4.1)\n",
      "Requirement already satisfied: pyyaml in /usr/local/lib/python3.6/dist-packages (from keras->keras-contrib==2.0.8) (3.13)\n",
      "Building wheels for collected packages: keras-contrib\n",
      "  Building wheel for keras-contrib (setup.py) ... \u001b[?25l\u001b[?25hdone\n",
      "  Created wheel for keras-contrib: filename=keras_contrib-2.0.8-cp36-none-any.whl size=101064 sha256=d9c6f729ca2666f9ffc2fc06eb7a5cbeb7877a437d1ee25351663cdfcdfe4690\n",
      "  Stored in directory: /tmp/pip-ephem-wheel-cache-0yprqccy/wheels/11/27/c8/4ed56de7b55f4f61244e2dc6ef3cdbaff2692527a2ce6502ba\n",
      "Successfully built keras-contrib\n",
      "Installing collected packages: keras-contrib\n",
      "Successfully installed keras-contrib-2.0.8\n"
     ]
    }
   ],
   "source": [
    "!pip install git+https://www.github.com/keras-team/keras-contrib.git"
   ]
  },
  {
   "cell_type": "code",
   "execution_count": 0,
   "metadata": {
    "colab": {
     "base_uri": "https://localhost:8080/",
     "height": 1000
    },
    "colab_type": "code",
    "id": "nl8qskZln8CC",
    "outputId": "8b9bb7c8-92d3-4221-8f1d-ae705c614aa0"
   },
   "outputs": [
    {
     "name": "stderr",
     "output_type": "stream",
     "text": [
      "/usr/local/lib/python3.6/dist-packages/keras_contrib/layers/crf.py:346: UserWarning: CRF.loss_function is deprecated and it might be removed in the future. Please use losses.crf_loss instead.\n",
      "  warnings.warn('CRF.loss_function is deprecated '\n",
      "/usr/local/lib/python3.6/dist-packages/keras_contrib/layers/crf.py:353: UserWarning: CRF.accuracy is deprecated and it might be removed in the future. Please use metrics.crf_accuracy\n",
      "  warnings.warn('CRF.accuracy is deprecated and it '\n"
     ]
    },
    {
     "name": "stdout",
     "output_type": "stream",
     "text": [
      "Model: \"model_2\"\n",
      "_________________________________________________________________\n",
      "Layer (type)                 Output Shape              Param #   \n",
      "=================================================================\n",
      "bert_output (InputLayer)     (None, 400, 312)          0         \n",
      "_________________________________________________________________\n",
      "bi_lstm (Bidirectional)      (None, 400, 256)          451584    \n",
      "_________________________________________________________________\n",
      "dropout (Dropout)            (None, 400, 256)          0         \n",
      "_________________________________________________________________\n",
      "time_distributed (TimeDistri (None, 400, 7)            1799      \n",
      "_________________________________________________________________\n",
      "crf_2 (CRF)                  (None, 400, 7)            119       \n",
      "=================================================================\n",
      "Total params: 453,502\n",
      "Trainable params: 453,502\n",
      "Non-trainable params: 0\n",
      "_________________________________________________________________\n",
      "Train on 4164 samples, validate on 311 samples\n",
      "Epoch 1/20\n",
      "4164/4164 [==============================] - 344s 83ms/step - loss: 0.6736 - crf_viterbi_accuracy: 0.7320 - accuracy: 0.0102 - val_loss: 0.2517 - val_crf_viterbi_accuracy: 0.9460 - val_accuracy: 0.9464\n",
      "\n",
      "Epoch 00001: val_accuracy improved from -inf to 0.94636, saving model to ner-bi-lstm-td-model-0.95.hdf5\n",
      "Epoch 2/20\n",
      "4164/4164 [==============================] - 343s 82ms/step - loss: 0.2249 - crf_viterbi_accuracy: 0.9428 - accuracy: 0.0102 - val_loss: 0.1846 - val_crf_viterbi_accuracy: 0.9467 - val_accuracy: 0.9470\n",
      "\n",
      "Epoch 00002: val_accuracy improved from 0.94636 to 0.94704, saving model to ner-bi-lstm-td-model-0.95.hdf5\n",
      "Epoch 3/20\n",
      "4164/4164 [==============================] - 342s 82ms/step - loss: 0.1834 - crf_viterbi_accuracy: 0.9439 - accuracy: 0.0102 - val_loss: 0.1679 - val_crf_viterbi_accuracy: 0.9474 - val_accuracy: 0.9477\n",
      "\n",
      "Epoch 00003: val_accuracy improved from 0.94704 to 0.94773, saving model to ner-bi-lstm-td-model-0.95.hdf5\n",
      "Epoch 4/20\n",
      "4164/4164 [==============================] - 343s 82ms/step - loss: 0.1691 - crf_viterbi_accuracy: 0.9446 - accuracy: 0.0102 - val_loss: 0.1614 - val_crf_viterbi_accuracy: 0.9476 - val_accuracy: 0.9480\n",
      "\n",
      "Epoch 00004: val_accuracy improved from 0.94773 to 0.94796, saving model to ner-bi-lstm-td-model-0.95.hdf5\n",
      "Epoch 5/20\n",
      "4164/4164 [==============================] - 334s 80ms/step - loss: 0.1587 - crf_viterbi_accuracy: 0.9452 - accuracy: 0.0102 - val_loss: 0.1554 - val_crf_viterbi_accuracy: 0.9474 - val_accuracy: 0.9477\n",
      "\n",
      "Epoch 00005: val_accuracy did not improve from 0.94796\n",
      "Epoch 6/20\n",
      "4164/4164 [==============================] - 339s 81ms/step - loss: 0.1493 - crf_viterbi_accuracy: 0.9460 - accuracy: 0.0102 - val_loss: 0.1493 - val_crf_viterbi_accuracy: 0.9479 - val_accuracy: 0.9483\n",
      "\n",
      "Epoch 00006: val_accuracy improved from 0.94796 to 0.94834, saving model to ner-bi-lstm-td-model-0.95.hdf5\n",
      "Epoch 7/20\n",
      "4164/4164 [==============================] - 328s 79ms/step - loss: 0.1412 - crf_viterbi_accuracy: 0.9469 - accuracy: 0.0102 - val_loss: 0.1481 - val_crf_viterbi_accuracy: 0.9476 - val_accuracy: 0.9481\n",
      "\n",
      "Epoch 00007: val_accuracy did not improve from 0.94834\n",
      "Epoch 8/20\n",
      "4164/4164 [==============================] - 325s 78ms/step - loss: 0.1335 - crf_viterbi_accuracy: 0.9477 - accuracy: 0.0102 - val_loss: 0.1458 - val_crf_viterbi_accuracy: 0.9483 - val_accuracy: 0.9486\n",
      "\n",
      "Epoch 00008: val_accuracy improved from 0.94834 to 0.94865, saving model to ner-bi-lstm-td-model-0.95.hdf5\n",
      "Epoch 9/20\n",
      "4164/4164 [==============================] - 321s 77ms/step - loss: 0.1252 - crf_viterbi_accuracy: 0.9491 - accuracy: 0.0102 - val_loss: 0.1471 - val_crf_viterbi_accuracy: 0.9473 - val_accuracy: 0.9478\n",
      "\n",
      "Epoch 00009: val_accuracy did not improve from 0.94865\n",
      "Epoch 10/20\n",
      "4164/4164 [==============================] - 324s 78ms/step - loss: 0.1179 - crf_viterbi_accuracy: 0.9509 - accuracy: 0.0102 - val_loss: 0.1398 - val_crf_viterbi_accuracy: 0.9455 - val_accuracy: 0.9460\n",
      "\n",
      "Epoch 00010: val_accuracy did not improve from 0.94865\n",
      "Epoch 11/20\n",
      "4164/4164 [==============================] - 337s 81ms/step - loss: 0.1113 - crf_viterbi_accuracy: 0.9522 - accuracy: 0.0102 - val_loss: 0.1397 - val_crf_viterbi_accuracy: 0.9470 - val_accuracy: 0.9474\n",
      "\n",
      "Epoch 00011: val_accuracy did not improve from 0.94865\n",
      "Epoch 12/20\n",
      "4164/4164 [==============================] - 340s 82ms/step - loss: 0.1058 - crf_viterbi_accuracy: 0.9540 - accuracy: 0.0102 - val_loss: 0.1389 - val_crf_viterbi_accuracy: 0.9453 - val_accuracy: 0.9458\n",
      "\n",
      "Epoch 00012: val_accuracy did not improve from 0.94865\n",
      "Epoch 13/20\n",
      "4164/4164 [==============================] - 341s 82ms/step - loss: 0.0999 - crf_viterbi_accuracy: 0.9557 - accuracy: 0.0102 - val_loss: 0.1402 - val_crf_viterbi_accuracy: 0.9473 - val_accuracy: 0.9477\n",
      "\n",
      "Epoch 00013: val_accuracy did not improve from 0.94865\n",
      "Epoch 14/20\n",
      "4164/4164 [==============================] - 344s 83ms/step - loss: 0.0940 - crf_viterbi_accuracy: 0.9573 - accuracy: 0.0102 - val_loss: 0.1445 - val_crf_viterbi_accuracy: 0.9453 - val_accuracy: 0.9459\n",
      "\n",
      "Epoch 00014: val_accuracy did not improve from 0.94865\n",
      "Epoch 15/20\n",
      "4164/4164 [==============================] - 342s 82ms/step - loss: 0.0897 - crf_viterbi_accuracy: 0.9589 - accuracy: 0.0102 - val_loss: 0.1387 - val_crf_viterbi_accuracy: 0.9454 - val_accuracy: 0.9460\n",
      "\n",
      "Epoch 00015: val_accuracy did not improve from 0.94865\n",
      "Epoch 16/20\n",
      "4164/4164 [==============================] - 342s 82ms/step - loss: 0.0859 - crf_viterbi_accuracy: 0.9598 - accuracy: 0.0102 - val_loss: 0.1399 - val_crf_viterbi_accuracy: 0.9441 - val_accuracy: 0.9448\n",
      "\n",
      "Epoch 00016: val_accuracy did not improve from 0.94865\n",
      "Epoch 17/20\n",
      "4164/4164 [==============================] - 342s 82ms/step - loss: 0.0813 - crf_viterbi_accuracy: 0.9618 - accuracy: 0.0102 - val_loss: 0.1380 - val_crf_viterbi_accuracy: 0.9403 - val_accuracy: 0.9410\n",
      "\n",
      "Epoch 00017: val_accuracy did not improve from 0.94865\n",
      "Epoch 18/20\n",
      "4164/4164 [==============================] - 340s 82ms/step - loss: 0.0779 - crf_viterbi_accuracy: 0.9626 - accuracy: 0.0102 - val_loss: 0.1418 - val_crf_viterbi_accuracy: 0.9431 - val_accuracy: 0.9438\n",
      "\n",
      "Epoch 00018: val_accuracy did not improve from 0.94865\n",
      "Epoch 19/20\n",
      "4164/4164 [==============================] - 341s 82ms/step - loss: 0.0747 - crf_viterbi_accuracy: 0.9636 - accuracy: 0.0102 - val_loss: 0.1435 - val_crf_viterbi_accuracy: 0.9451 - val_accuracy: 0.9455\n",
      "\n",
      "Epoch 00019: val_accuracy did not improve from 0.94865\n",
      "Epoch 20/20\n",
      "4164/4164 [==============================] - 338s 81ms/step - loss: 0.0715 - crf_viterbi_accuracy: 0.9651 - accuracy: 0.0102 - val_loss: 0.1530 - val_crf_viterbi_accuracy: 0.9456 - val_accuracy: 0.9461\n",
      "\n",
      "Epoch 00020: val_accuracy did not improve from 0.94865\n"
     ]
    }
   ],
   "source": [
    "from keras.models import Model, Input\n",
    "from keras.layers import LSTM, Embedding, Dense, TimeDistributed, Dropout, Bidirectional\n",
    "from keras.callbacks import ModelCheckpoint\n",
    "import matplotlib.pyplot as plt\n",
    "import keras as k\n",
    "from keras_contrib.layers import CRF\n",
    "# Bert Embedding Layer\n",
    "bert_output = Input(shape=(maxlen,312,), name=\"bert_output\")\n",
    "# BI-LSTM Layer\n",
    "lstm = Bidirectional(LSTM(units=128, return_sequences=True), name=\"bi_lstm\")(bert_output)\n",
    "drop = Dropout(0.1, name=\"dropout\")(lstm)\n",
    "# TimeDistributed Layer\n",
    "dense = TimeDistributed(Dense(n_tags, activation=\"relu\"), name=\"time_distributed\")(drop)\n",
    "# Crf Layer\n",
    "crf = CRF(n_tags)\n",
    "out = crf(dense)\n",
    "model = Model(inputs=bert_output, outputs=out)\n",
    "\n",
    "#Optimiser\n",
    "adam = k.optimizers.Adam(lr=0.0005, beta_1=0.9, beta_2=0.999)\n",
    "\n",
    "# Compile model\n",
    "model.compile(optimizer=adam, loss=crf.loss_function, metrics=[crf.accuracy, 'accuracy'])\n",
    "\n",
    "model.summary()\n",
    "\n",
    "# Saving the best model only\n",
    "filepath=\"ner-bi-lstm-td-model-{val_accuracy:.2f}.hdf5\"\n",
    "checkpoint = ModelCheckpoint(filepath, monitor='val_accuracy', verbose=1, save_best_only=True, mode='max')\n",
    "callbacks_list = [checkpoint]\n",
    "\n",
    "# Fit the best model\n",
    "history = model.fit(train_x, train_y, validation_data=(dev_x, dev_y), batch_size=32, verbose=1, epochs=20, callbacks=callbacks_list)"
   ]
  },
  {
   "cell_type": "code",
   "execution_count": 0,
   "metadata": {
    "colab": {
     "base_uri": "https://localhost:8080/",
     "height": 337
    },
    "colab_type": "code",
    "id": "BJR48bPlUt-p",
    "outputId": "4321fd13-0903-40fd-9293-efd84e9a14e2"
   },
   "outputs": [
    {
     "data": {
      "image/png": "[encoded data removed]",
      "text/plain": [
       "<Figure size 864x360 with 2 Axes>"
      ]
     },
     "metadata": {
      "tags": []
     },
     "output_type": "display_data"
    }
   ],
   "source": [
    "# Plot the graph \n",
    "plt.style.use('ggplot')\n",
    "\n",
    "def plot_history(history):\n",
    "    accuracy = history.history['accuracy']\n",
    "    val_acc = history.history['val_accuracy']\n",
    "    loss = history.history['loss']\n",
    "    val_loss = history.history['val_loss']\n",
    "    x = range(1, len(accuracy) + 1)\n",
    "\n",
    "    plt.figure(figsize=(12, 5))\n",
    "    plt.subplot(1, 2, 1)\n",
    "    plt.plot(x, accuracy, 'b', label='Training acc')\n",
    "    plt.plot(x, val_acc, 'r', label='Validation acc')\n",
    "    plt.title('Training and validation accuracy')\n",
    "    plt.legend()\n",
    "    plt.subplot(1, 2, 2)\n",
    "    plt.plot(x, loss, 'b', label='Training loss')\n",
    "    plt.plot(x, val_loss, 'r', label='Validation loss')\n",
    "    plt.title('Training and validation loss')\n",
    "    plt.legend()\n",
    "\n",
    "plot_history(history)"
   ]
  },
  {
   "cell_type": "code",
   "execution_count": 0,
   "metadata": {
    "colab": {
     "base_uri": "https://localhost:8080/",
     "height": 50
    },
    "colab_type": "code",
    "id": "2yXu4h7QU0vu",
    "outputId": "1e10abc9-b879-4dc6-b6e4-1a71e2cc1fbc"
   },
   "outputs": [
    {
     "name": "stdout",
     "output_type": "stream",
     "text": [
      "787/787 [==============================] - 21s 27ms/step\n",
      "787 787\n"
     ]
    }
   ],
   "source": [
    "def pred2label(pred):\n",
    "    out = []\n",
    "    for pred_i in pred:\n",
    "        out_i = []\n",
    "        for p in pred_i:\n",
    "            p_i = np.argmax(p)\n",
    "            out_i.append(idx2tag[p_i])\n",
    "        out.append(out_i)\n",
    "    return out\n",
    "test_pred = model.predict(test_x, verbose=1)   \n",
    "pred_labels = pred2label(test_pred)\n",
    "test_labels = pred2label(test_y)\n",
    "print(len(test_labels), len(pred_labels))"
   ]
  },
  {
   "cell_type": "code",
   "execution_count": 0,
   "metadata": {
    "colab": {
     "base_uri": "https://localhost:8080/",
     "height": 302
    },
    "colab_type": "code",
    "id": "VAKp_4NwVC5z",
    "outputId": "b0e3fd21-d312-4c96-8e3c-ce2b0c7fb56a"
   },
   "outputs": [
    {
     "name": "stdout",
     "output_type": "stream",
     "text": [
      "Collecting seqeval\n",
      "  Downloading https://files.pythonhosted.org/packages/34/91/068aca8d60ce56dd9ba4506850e876aba5e66a6f2f29aa223224b50df0de/seqeval-0.0.12.tar.gz\n",
      "Requirement already satisfied: numpy>=1.14.0 in /usr/local/lib/python3.6/dist-packages (from seqeval) (1.18.5)\n",
      "Requirement already satisfied: Keras>=2.2.4 in /usr/local/lib/python3.6/dist-packages (from seqeval) (2.3.1)\n",
      "Requirement already satisfied: keras-preprocessing>=1.0.5 in /usr/local/lib/python3.6/dist-packages (from Keras>=2.2.4->seqeval) (1.1.2)\n",
      "Requirement already satisfied: h5py in /usr/local/lib/python3.6/dist-packages (from Keras>=2.2.4->seqeval) (2.10.0)\n",
      "Requirement already satisfied: keras-applications>=1.0.6 in /usr/local/lib/python3.6/dist-packages (from Keras>=2.2.4->seqeval) (1.0.8)\n",
      "Requirement already satisfied: pyyaml in /usr/local/lib/python3.6/dist-packages (from Keras>=2.2.4->seqeval) (3.13)\n",
      "Requirement already satisfied: six>=1.9.0 in /usr/local/lib/python3.6/dist-packages (from Keras>=2.2.4->seqeval) (1.12.0)\n",
      "Requirement already satisfied: scipy>=0.14 in /usr/local/lib/python3.6/dist-packages (from Keras>=2.2.4->seqeval) (1.4.1)\n",
      "Building wheels for collected packages: seqeval\n",
      "  Building wheel for seqeval (setup.py) ... \u001b[?25l\u001b[?25hdone\n",
      "  Created wheel for seqeval: filename=seqeval-0.0.12-cp36-none-any.whl size=7424 sha256=fa5702f3a6f2feef05e55638e0253ab0d20fb872fe2c0e2f3fa4847600c88130\n",
      "  Stored in directory: /root/.cache/pip/wheels/4f/32/0a/df3b340a82583566975377d65e724895b3fad101a3fb729f68\n",
      "Successfully built seqeval\n",
      "Installing collected packages: seqeval\n",
      "Successfully installed seqeval-0.0.12\n"
     ]
    }
   ],
   "source": [
    "! pip install seqeval"
   ]
  },
  {
   "cell_type": "code",
   "execution_count": 0,
   "metadata": {
    "colab": {
     "base_uri": "https://localhost:8080/",
     "height": 34
    },
    "colab_type": "code",
    "id": "Q2snI3y8VDyb",
    "outputId": "518b9a6a-5ed0-4c46-d59a-f92d3efa2e02"
   },
   "outputs": [
    {
     "name": "stdout",
     "output_type": "stream",
     "text": [
      "F1-score: 11.47%\n"
     ]
    }
   ],
   "source": [
    "from seqeval.metrics import precision_score, recall_score, f1_score, classification_report\n",
    "print(\"F1-score: {:.2%}\".format(f1_score(test_labels, pred_labels)))"
   ]
  },
  {
   "cell_type": "code",
   "execution_count": 0,
   "metadata": {
    "colab": {
     "base_uri": "https://localhost:8080/",
     "height": 289
    },
    "colab_type": "code",
    "id": "KyzP7Xa61TjG",
    "outputId": "c9b01726-d223-411f-a3a0-3ffd5cb12788"
   },
   "outputs": [
    {
     "name": "stdout",
     "output_type": "stream",
     "text": [
      "['disease', 'disease', 'disease', '0', '0', '0', '0', '0', '0', 'body', 'body', 'body', 'body', '0', '0', '0', '0', '0', '0', '0', '0', '0', '0', 'subject', 'subject', '0', '0', 'body', 'body', 'subject', 'subject', 'subject', 'subject', '0', '0', '0', '0', '0', '0', '0', '0', '0', '0', '0', '0', '0', '0', '0', '0', '0', '0', '0', '0', '0', '0', '0', '0', '0', '0', '0', '0', '0', '0', '0', '0', '0', '0', '0', '0', '0', '0', '0', '0', '0', '0', '0', '0', '0', '0', '0', '0', '0', '0', '0', '0', '0', '0', '0', '0', '0', '0', '0', '0', '0', '0', '0', '0', '0', '0', '0', '0', '0', '0', '0', '0', '0', '0', '0', '0', '0', '0', '0', '0', '0', '0', '0', '0', '0', '0', '0', '0', '0', '0', '0', '0', '0', '0', '0', '0', '0', '0', '0', '0', '0', '0', '0', '0', '0', '0', '0', '0', '0', '0', '0', '0', '0', '0', '0', '0', '0', '0', '0', '0', '0', '0', '0', '0', '0', '0', '0', '0', '0', '0', '0', '0', '0', '0', '0', '0', '0', '0', '0', '0', '0', '0', '0', '0', '0', '0', '0', '0', '0', '0', '0', '0', '0', '0', '0', '0', '0', '0', '0', '0', '0', '0', '0', '0', '0', '0', '0', '0', '0', '0', '0', '0', '0', '0', '0', '0', '0', '0', '0', '0', '0', '0', '0', '0', '0', '0', '0', '0', '0', '0', '0', '0', '0', '0', '0', '0', '0', '0', '0', '0', '0', '0', '0', '0', '0', '0', '0', '0', '0', '0', '0', '0', '0', '0', '0', '0', '0', '0', '0', '0', '0', '0', '0', '0', '0', '0', '0', '0', '0', '0', '0', '0', '0', '0', '0', '0', '0', '0', '0', '0', '0', '0', '0', '0', '0', '0', '0', '0', '0', '0', '0', '0', '0', '0', '0', '0', '0', '0', '0', '0', '0', '0', '0', '0', '0', '0', '0', '0', '0', '0', '0', '0', '0', '0', '0', '0', '0', '0', '0', '0', '0', '0', '0', '0', '0', '0', '0', '0', '0', '0', '0', '0', '0', '0', '0', '0', '0', '0', '0', '0', '0', '0', '0', '0', '0', '0', '0', '0', '0', '0', '0', '0', '0', '0', '0', '0', '0', '0', '0', '0', '0', '0', '0', '0', '0', '0', '0', '0', '0', '0', '0', '0', '0', '0', '0', '0', '0', '0', '0', '0', '0', '0', '0', '0', '0', '0', '0', '0', '0', '0', '0', '0', '0', '0', '0', '0', '0', '0', '0', '0', '0', '0', '0', '0', '0', '0', '0']\n",
      "['0', '0', '0', '0', '0', '0', '0', '0', '0', '0', '0', '0', '0', '0', '0', '0', '0', '0', '0', '0', '0', '0', '0', '0', '0', '0', '0', '0', '0', '0', '0', '0', '0', '0', '0', '0', '0', '0', '0', '0', '0', '0', '0', '0', '0', '0', '0', '0', '0', '0', '0', '0', '0', '0', '0', '0', '0', '0', '0', '0', '0', '0', '0', '0', '0', '0', '0', '0', '0', '0', '0', '0', '0', '0', '0', '0', '0', '0', '0', '0', '0', '0', '0', '0', '0', '0', '0', '0', '0', '0', '0', '0', '0', '0', '0', '0', '0', '0', '0', '0', '0', '0', '0', '0', '0', '0', '0', '0', '0', '0', '0', '0', '0', '0', '0', '0', '0', '0', '0', '0', '0', '0', '0', '0', '0', '0', '0', '0', '0', '0', '0', '0', '0', '0', '0', '0', '0', '0', '0', '0', '0', '0', '0', '0', '0', '0', '0', '0', '0', '0', '0', '0', '0', '0', '0', '0', '0', '0', '0', '0', '0', '0', '0', '0', '0', '0', '0', '0', '0', '0', '0', '0', '0', '0', '0', '0', '0', '0', '0', '0', '0', '0', '0', '0', '0', '0', '0', '0', '0', '0', '0', '0', '0', '0', '0', '0', '0', '0', '0', '0', '0', '0', '0', '0', '0', '0', '0', '0', '0', '0', '0', '0', '0', '0', '0', '0', '0', '0', '0', '0', '0', '0', '0', '0', '0', '0', '0', '0', '0', '0', '0', '0', '0', '0', '0', '0', '0', '0', '0', '0', '0', '0', '0', '0', '0', '0', '0', '0', '0', '0', '0', '0', '0', '0', '0', '0', '0', '0', '0', '0', '0', '0', '0', '0', '0', '0', '0', '0', '0', '0', '0', '0', '0', '0', '0', '0', '0', '0', '0', '0', '0', '0', '0', '0', '0', '0', '0', '0', '0', '0', '0', '0', '0', '0', '0', '0', '0', '0', '0', '0', '0', '0', '0', '0', '0', '0', '0', '0', '0', '0', '0', '0', '0', '0', '0', '0', '0', '0', '0', '0', '0', '0', '0', '0', '0', '0', '0', '0', '0', '0', '0', '0', '0', '0', '0', '0', '0', '0', '0', '0', '0', '0', '0', '0', '0', '0', '0', '0', '0', '0', '0', '0', '0', '0', '0', '0', '0', '0', '0', '0', '0', '0', '0', '0', '0', '0', '0', '0', '0', '0', '0', '0', '0', '0', '0', '0', '0', '0', '0', '0', '0', '0', '0', '0', '0', '0', '0', '0', '0', '0', '0', '0', '0', '0', '0', '0', '0', '0', '0', '0']\n",
      "385\n",
      "0.0\n",
      "0.0\n",
      "           precision    recall  f1-score   support\n",
      "\n",
      "        0       0.00      0.00      0.00         4\n",
      "     body       0.00      0.00      0.00         2\n",
      "  subject       0.00      0.00      0.00         2\n",
      "  disease       0.00      0.00      0.00         1\n",
      "\n",
      "micro avg       0.00      0.00      0.00         9\n",
      "macro avg       0.00      0.00      0.00         9\n",
      "\n"
     ]
    }
   ],
   "source": [
    "print(test_labels[0])\n",
    "print(pred_labels[0])\n",
    "t=0\n",
    "for i in range(400):\n",
    "    if test_labels[0][i]==pred_labels[0][i]:\n",
    "        t+=1\n",
    "print(t)\n",
    "print(precision_score(test_labels[0], pred_labels[0]))\n",
    "print(recall_score(test_labels[0], pred_labels[0]))\n",
    "print(classification_report(test_labels[0], pred_labels[0]))"
   ]
  },
  {
   "cell_type": "code",
   "execution_count": 0,
   "metadata": {
    "colab": {
     "base_uri": "https://localhost:8080/",
     "height": 205
    },
    "colab_type": "code",
    "id": "romEVkY3XZP4",
    "outputId": "7f8bcf52-1944-468e-ac48-1314e5ffee87"
   },
   "outputs": [
    {
     "name": "stdout",
     "output_type": "stream",
     "text": [
      "Collecting sklearn_crfsuite\n",
      "  Downloading https://files.pythonhosted.org/packages/25/74/5b7befa513482e6dee1f3dd68171a6c9dfc14c0eaa00f885ffeba54fe9b0/sklearn_crfsuite-0.3.6-py2.py3-none-any.whl\n",
      "Requirement already satisfied: tabulate in /usr/local/lib/python3.6/dist-packages (from sklearn_crfsuite) (0.8.7)\n",
      "Requirement already satisfied: six in /usr/local/lib/python3.6/dist-packages (from sklearn_crfsuite) (1.12.0)\n",
      "Collecting python-crfsuite>=0.8.3\n",
      "\u001b[?25l  Downloading https://files.pythonhosted.org/packages/95/99/869dde6dbf3e0d07a013c8eebfb0a3d30776334e0097f8432b631a9a3a19/python_crfsuite-0.9.7-cp36-cp36m-manylinux1_x86_64.whl (743kB)\n",
      "\u001b[K     |████████████████████████████████| 747kB 4.9MB/s \n",
      "\u001b[?25hRequirement already satisfied: tqdm>=2.0 in /usr/local/lib/python3.6/dist-packages (from sklearn_crfsuite) (4.41.1)\n",
      "Installing collected packages: python-crfsuite, sklearn-crfsuite\n",
      "Successfully installed python-crfsuite-0.9.7 sklearn-crfsuite-0.3.6\n"
     ]
    }
   ],
   "source": [
    "! pip install sklearn_crfsuite"
   ]
  },
  {
   "cell_type": "code",
   "execution_count": 0,
   "metadata": {
    "colab": {
     "base_uri": "https://localhost:8080/",
     "height": 306
    },
    "colab_type": "code",
    "id": "TE0NQuOTXbAT",
    "outputId": "7c084a93-b95a-47f5-dbad-c958ded454d8"
   },
   "outputs": [
    {
     "name": "stderr",
     "output_type": "stream",
     "text": [
      "/usr/local/lib/python3.6/dist-packages/sklearn/metrics/_classification.py:1272: UndefinedMetricWarning: Precision and F-score are ill-defined and being set to 0.0 in labels with no predicted samples. Use `zero_division` parameter to control this behavior.\n",
      "  _warn_prf(average, modifier, msg_start, len(result))\n"
     ]
    },
    {
     "name": "stdout",
     "output_type": "stream",
     "text": [
      "              precision    recall  f1-score   support\n",
      "\n",
      "           0       0.95      0.99      0.97    295258\n",
      "        body       0.41      0.18      0.25      3855\n",
      "    decorate       0.36      0.07      0.12      1854\n",
      "     disease       0.31      0.12      0.17      3017\n",
      "   frequency       0.00      0.00      0.00       151\n",
      "        item       0.27      0.01      0.01       557\n",
      "     subject       0.50      0.14      0.22     10108\n",
      "\n",
      "    accuracy                           0.94    314800\n",
      "   macro avg       0.40      0.21      0.25    314800\n",
      "weighted avg       0.92      0.94      0.92    314800\n",
      "\n"
     ]
    }
   ],
   "source": [
    "from  sklearn_crfsuite.metrics import flat_classification_report  \n",
    "report = flat_classification_report(y_pred=pred_labels, y_true=test_labels)\n",
    "print(report)"
   ]
  }
 ],
 "metadata": {
  "accelerator": "GPU",
  "colab": {
   "collapsed_sections": [],
   "name": "Model_V1.ipynb",
   "provenance": []
  },
  "kernelspec": {
   "display_name": "Python 3",
   "language": "python",
   "name": "python3"
  },
  "language_info": {
   "codemirror_mode": {
    "name": "ipython",
    "version": 3
   },
   "file_extension": ".py",
   "mimetype": "text/x-python",
   "name": "python",
   "nbconvert_exporter": "python",
   "pygments_lexer": "ipython3",
   "version": "3.7.6"
  }
 },
 "nbformat": 4,
 "nbformat_minor": 1
}
